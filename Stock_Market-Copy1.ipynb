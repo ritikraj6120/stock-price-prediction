{
 "cells": [
  {
   "cell_type": "markdown",
   "metadata": {},
   "source": [
    "<h1>Stock Market Prediction And Forecasting Using Stacked LSTM</h1>"
   ]
  },
  {
   "cell_type": "code",
   "execution_count": 38,
   "metadata": {},
   "outputs": [],
   "source": [
    "# Keras and Tensorflow >2.0"
   ]
  },
  {
   "cell_type": "code",
   "execution_count": 39,
   "metadata": {},
   "outputs": [
    {
     "ename": "ModuleNotFoundError",
     "evalue": "No module named 'dotenv'",
     "output_type": "error",
     "traceback": [
      "\u001b[1;31m---------------------------------------------------------------------------\u001b[0m",
      "\u001b[1;31mModuleNotFoundError\u001b[0m                       Traceback (most recent call last)",
      "Cell \u001b[1;32mIn [39], line 2\u001b[0m\n\u001b[0;32m      1\u001b[0m \u001b[38;5;28;01mimport\u001b[39;00m \u001b[38;5;21;01mos\u001b[39;00m\n\u001b[1;32m----> 2\u001b[0m \u001b[38;5;28;01mfrom\u001b[39;00m \u001b[38;5;21;01mdotenv\u001b[39;00m \u001b[38;5;28;01mimport\u001b[39;00m load_dotenv\n\u001b[0;32m      3\u001b[0m load_dotenv()\n\u001b[0;32m      4\u001b[0m api_key\u001b[38;5;241m=\u001b[39mos\u001b[38;5;241m.\u001b[39mgetenv(\u001b[38;5;124m'\u001b[39m\u001b[38;5;124mTIINGO_API_KEY\u001b[39m\u001b[38;5;124m'\u001b[39m)\n",
      "\u001b[1;31mModuleNotFoundError\u001b[0m: No module named 'dotenv'"
     ]
    }
   ],
   "source": [
    "import os\n",
    "from dotenv import load_dotenv\n",
    "load_dotenv()\n",
    "api_key=os.getenv('TIINGO_API_KEY')"
   ]
  },
  {
   "cell_type": "code",
   "execution_count": null,
   "metadata": {},
   "outputs": [],
   "source": [
    "### Data Collection\n",
    "import pandas_datareader as pdr"
   ]
  },
  {
   "cell_type": "code",
   "execution_count": null,
   "metadata": {},
   "outputs": [],
   "source": [
    "# df = pdr.get_data_tiingo('AAPL', api_key=api_key)"
   ]
  },
  {
   "cell_type": "code",
   "execution_count": null,
   "metadata": {},
   "outputs": [],
   "source": [
    "# df.to_csv('AAPLNEW.csv')"
   ]
  },
  {
   "cell_type": "code",
   "execution_count": 40,
   "metadata": {},
   "outputs": [
    {
     "name": "stdout",
     "output_type": "stream",
     "text": [
      "2.10.1\n"
     ]
    }
   ],
   "source": [
    "import pandas as pd\n",
    "import tensorflow as tf\n",
    "import numpy as np\n",
    "import matplotlib.pyplot as plt\n",
    "print(tf. __version__)"
   ]
  },
  {
   "cell_type": "code",
   "execution_count": 41,
   "metadata": {},
   "outputs": [
    {
     "data": {
      "text/plain": [
       "[PhysicalDevice(name='/physical_device:CPU:0', device_type='CPU'),\n",
       " PhysicalDevice(name='/physical_device:GPU:0', device_type='GPU')]"
      ]
     },
     "execution_count": 41,
     "metadata": {},
     "output_type": "execute_result"
    }
   ],
   "source": [
    "tf.config.experimental.list_physical_devices()"
   ]
  },
  {
   "cell_type": "code",
   "execution_count": 42,
   "metadata": {},
   "outputs": [],
   "source": [
    "df=pd.read_csv('AAPLNEW2.csv')"
   ]
  },
  {
   "cell_type": "code",
   "execution_count": 43,
   "metadata": {},
   "outputs": [
    {
     "data": {
      "text/html": [
       "<div>\n",
       "<style scoped>\n",
       "    .dataframe tbody tr th:only-of-type {\n",
       "        vertical-align: middle;\n",
       "    }\n",
       "\n",
       "    .dataframe tbody tr th {\n",
       "        vertical-align: top;\n",
       "    }\n",
       "\n",
       "    .dataframe thead th {\n",
       "        text-align: right;\n",
       "    }\n",
       "</style>\n",
       "<table border=\"1\" class=\"dataframe\">\n",
       "  <thead>\n",
       "    <tr style=\"text-align: right;\">\n",
       "      <th></th>\n",
       "      <th>Date</th>\n",
       "      <th>Open</th>\n",
       "      <th>High</th>\n",
       "      <th>Low</th>\n",
       "      <th>Close</th>\n",
       "      <th>Adj Close</th>\n",
       "      <th>Volume</th>\n",
       "    </tr>\n",
       "  </thead>\n",
       "  <tbody>\n",
       "    <tr>\n",
       "      <th>0</th>\n",
       "      <td>2016-01-04</td>\n",
       "      <td>25.652500</td>\n",
       "      <td>26.342501</td>\n",
       "      <td>25.500000</td>\n",
       "      <td>26.337500</td>\n",
       "      <td>24.111496</td>\n",
       "      <td>270597600</td>\n",
       "    </tr>\n",
       "    <tr>\n",
       "      <th>1</th>\n",
       "      <td>2016-01-05</td>\n",
       "      <td>26.437500</td>\n",
       "      <td>26.462500</td>\n",
       "      <td>25.602501</td>\n",
       "      <td>25.677500</td>\n",
       "      <td>23.507288</td>\n",
       "      <td>223164000</td>\n",
       "    </tr>\n",
       "    <tr>\n",
       "      <th>2</th>\n",
       "      <td>2016-01-06</td>\n",
       "      <td>25.139999</td>\n",
       "      <td>25.592501</td>\n",
       "      <td>24.967501</td>\n",
       "      <td>25.174999</td>\n",
       "      <td>23.047249</td>\n",
       "      <td>273829600</td>\n",
       "    </tr>\n",
       "    <tr>\n",
       "      <th>3</th>\n",
       "      <td>2016-01-07</td>\n",
       "      <td>24.670000</td>\n",
       "      <td>25.032499</td>\n",
       "      <td>24.107500</td>\n",
       "      <td>24.112499</td>\n",
       "      <td>22.074549</td>\n",
       "      <td>324377600</td>\n",
       "    </tr>\n",
       "    <tr>\n",
       "      <th>4</th>\n",
       "      <td>2016-01-08</td>\n",
       "      <td>24.637501</td>\n",
       "      <td>24.777500</td>\n",
       "      <td>24.190001</td>\n",
       "      <td>24.240000</td>\n",
       "      <td>22.191278</td>\n",
       "      <td>283192000</td>\n",
       "    </tr>\n",
       "  </tbody>\n",
       "</table>\n",
       "</div>"
      ],
      "text/plain": [
       "         Date       Open       High        Low      Close  Adj Close  \\\n",
       "0  2016-01-04  25.652500  26.342501  25.500000  26.337500  24.111496   \n",
       "1  2016-01-05  26.437500  26.462500  25.602501  25.677500  23.507288   \n",
       "2  2016-01-06  25.139999  25.592501  24.967501  25.174999  23.047249   \n",
       "3  2016-01-07  24.670000  25.032499  24.107500  24.112499  22.074549   \n",
       "4  2016-01-08  24.637501  24.777500  24.190001  24.240000  22.191278   \n",
       "\n",
       "      Volume  \n",
       "0  270597600  \n",
       "1  223164000  \n",
       "2  273829600  \n",
       "3  324377600  \n",
       "4  283192000  "
      ]
     },
     "execution_count": 43,
     "metadata": {},
     "output_type": "execute_result"
    }
   ],
   "source": [
    "df.head()"
   ]
  },
  {
   "cell_type": "code",
   "execution_count": 44,
   "metadata": {},
   "outputs": [
    {
     "data": {
      "text/html": [
       "<div>\n",
       "<style scoped>\n",
       "    .dataframe tbody tr th:only-of-type {\n",
       "        vertical-align: middle;\n",
       "    }\n",
       "\n",
       "    .dataframe tbody tr th {\n",
       "        vertical-align: top;\n",
       "    }\n",
       "\n",
       "    .dataframe thead th {\n",
       "        text-align: right;\n",
       "    }\n",
       "</style>\n",
       "<table border=\"1\" class=\"dataframe\">\n",
       "  <thead>\n",
       "    <tr style=\"text-align: right;\">\n",
       "      <th></th>\n",
       "      <th>Date</th>\n",
       "      <th>Open</th>\n",
       "      <th>High</th>\n",
       "      <th>Low</th>\n",
       "      <th>Close</th>\n",
       "      <th>Adj Close</th>\n",
       "      <th>Volume</th>\n",
       "    </tr>\n",
       "  </thead>\n",
       "  <tbody>\n",
       "    <tr>\n",
       "      <th>1729</th>\n",
       "      <td>2022-11-14</td>\n",
       "      <td>148.970001</td>\n",
       "      <td>150.279999</td>\n",
       "      <td>147.429993</td>\n",
       "      <td>148.279999</td>\n",
       "      <td>148.279999</td>\n",
       "      <td>73374100</td>\n",
       "    </tr>\n",
       "    <tr>\n",
       "      <th>1730</th>\n",
       "      <td>2022-11-15</td>\n",
       "      <td>152.220001</td>\n",
       "      <td>153.589996</td>\n",
       "      <td>148.559998</td>\n",
       "      <td>150.039993</td>\n",
       "      <td>150.039993</td>\n",
       "      <td>89868300</td>\n",
       "    </tr>\n",
       "    <tr>\n",
       "      <th>1731</th>\n",
       "      <td>2022-11-16</td>\n",
       "      <td>149.130005</td>\n",
       "      <td>149.869995</td>\n",
       "      <td>147.289993</td>\n",
       "      <td>148.789993</td>\n",
       "      <td>148.789993</td>\n",
       "      <td>64218300</td>\n",
       "    </tr>\n",
       "    <tr>\n",
       "      <th>1732</th>\n",
       "      <td>2022-11-17</td>\n",
       "      <td>146.429993</td>\n",
       "      <td>151.479996</td>\n",
       "      <td>146.149994</td>\n",
       "      <td>150.720001</td>\n",
       "      <td>150.720001</td>\n",
       "      <td>80389400</td>\n",
       "    </tr>\n",
       "    <tr>\n",
       "      <th>1733</th>\n",
       "      <td>2022-11-18</td>\n",
       "      <td>152.304993</td>\n",
       "      <td>152.570007</td>\n",
       "      <td>149.970001</td>\n",
       "      <td>151.289993</td>\n",
       "      <td>151.289993</td>\n",
       "      <td>70799117</td>\n",
       "    </tr>\n",
       "  </tbody>\n",
       "</table>\n",
       "</div>"
      ],
      "text/plain": [
       "            Date        Open        High         Low       Close   Adj Close  \\\n",
       "1729  2022-11-14  148.970001  150.279999  147.429993  148.279999  148.279999   \n",
       "1730  2022-11-15  152.220001  153.589996  148.559998  150.039993  150.039993   \n",
       "1731  2022-11-16  149.130005  149.869995  147.289993  148.789993  148.789993   \n",
       "1732  2022-11-17  146.429993  151.479996  146.149994  150.720001  150.720001   \n",
       "1733  2022-11-18  152.304993  152.570007  149.970001  151.289993  151.289993   \n",
       "\n",
       "        Volume  \n",
       "1729  73374100  \n",
       "1730  89868300  \n",
       "1731  64218300  \n",
       "1732  80389400  \n",
       "1733  70799117  "
      ]
     },
     "execution_count": 44,
     "metadata": {},
     "output_type": "execute_result"
    }
   ],
   "source": [
    "df.tail()"
   ]
  },
  {
   "cell_type": "code",
   "execution_count": 45,
   "metadata": {},
   "outputs": [],
   "source": [
    "df1=df.reset_index()['Close']"
   ]
  },
  {
   "cell_type": "code",
   "execution_count": 46,
   "metadata": {},
   "outputs": [
    {
     "data": {
      "text/plain": [
       "0        26.337500\n",
       "1        25.677500\n",
       "2        25.174999\n",
       "3        24.112499\n",
       "4        24.240000\n",
       "           ...    \n",
       "1729    148.279999\n",
       "1730    150.039993\n",
       "1731    148.789993\n",
       "1732    150.720001\n",
       "1733    151.289993\n",
       "Name: Close, Length: 1734, dtype: float64"
      ]
     },
     "execution_count": 46,
     "metadata": {},
     "output_type": "execute_result"
    }
   ],
   "source": [
    "df1"
   ]
  },
  {
   "cell_type": "code",
   "execution_count": 47,
   "metadata": {},
   "outputs": [
    {
     "data": {
      "text/plain": [
       "[<matplotlib.lines.Line2D at 0x1ef815c93a0>]"
      ]
     },
     "execution_count": 47,
     "metadata": {},
     "output_type": "execute_result"
    },
    {
     "data": {
      "image/png": "[encoded data removed]",
      "text/plain": [
       "<Figure size 640x480 with 1 Axes>"
      ]
     },
     "metadata": {},
     "output_type": "display_data"
    }
   ],
   "source": [
    "\n",
    "plt.plot(df1)"
   ]
  },
  {
   "cell_type": "code",
   "execution_count": 48,
   "metadata": {},
   "outputs": [],
   "source": [
    "### LSTM are sensitive to the scale of the data. so we apply MinMax scaler "
   ]
  },
  {
   "cell_type": "code",
   "execution_count": 49,
   "metadata": {},
   "outputs": [
    {
     "data": {
      "text/plain": [
       "0        26.337500\n",
       "1        25.677500\n",
       "2        25.174999\n",
       "3        24.112499\n",
       "4        24.240000\n",
       "           ...    \n",
       "1729    148.279999\n",
       "1730    150.039993\n",
       "1731    148.789993\n",
       "1732    150.720001\n",
       "1733    151.289993\n",
       "Name: Close, Length: 1734, dtype: float64"
      ]
     },
     "execution_count": 49,
     "metadata": {},
     "output_type": "execute_result"
    }
   ],
   "source": [
    "df1"
   ]
  },
  {
   "cell_type": "code",
   "execution_count": 50,
   "metadata": {},
   "outputs": [],
   "source": [
    "from sklearn.preprocessing import MinMaxScaler\n",
    "scaler=MinMaxScaler(feature_range=(0,1))\n",
    "df1=scaler.fit_transform(np.array(df1).reshape(-1,1))"
   ]
  },
  {
   "cell_type": "code",
   "execution_count": 51,
   "metadata": {},
   "outputs": [
    {
     "name": "stdout",
     "output_type": "stream",
     "text": [
      "[[0.02353772]\n",
      " [0.01939784]\n",
      " [0.01624588]\n",
      " ...\n",
      " [0.79162614]\n",
      " [0.8037322 ]\n",
      " [0.80730749]]\n"
     ]
    }
   ],
   "source": [
    "print(df1)"
   ]
  },
  {
   "cell_type": "code",
   "execution_count": 52,
   "metadata": {},
   "outputs": [],
   "source": [
    "##splitting dataset into train and test split\n",
    "training_size=int(len(df1)*0.65)\n",
    "test_size=len(df1)-training_size\n",
    "train_data,test_data=df1[0:training_size],df1[training_size:len(df1)]"
   ]
  },
  {
   "cell_type": "code",
   "execution_count": 53,
   "metadata": {},
   "outputs": [
    {
     "data": {
      "text/plain": [
       "(1127, 607)"
      ]
     },
     "execution_count": 53,
     "metadata": {},
     "output_type": "execute_result"
    }
   ],
   "source": [
    "training_size,test_size"
   ]
  },
  {
   "cell_type": "code",
   "execution_count": 54,
   "metadata": {},
   "outputs": [
    {
     "data": {
      "text/plain": [
       "array([[0.02353772],\n",
       "       [0.01939784],\n",
       "       [0.01624588],\n",
       "       ...,\n",
       "       [0.42109143],\n",
       "       [0.43310336],\n",
       "       [0.42295751]])"
      ]
     },
     "execution_count": 54,
     "metadata": {},
     "output_type": "execute_result"
    }
   ],
   "source": [
    "train_data"
   ]
  },
  {
   "cell_type": "code",
   "execution_count": 55,
   "metadata": {},
   "outputs": [],
   "source": [
    "import numpy\n",
    "# convert an array of values into a dataset matrix\n",
    "def create_dataset(dataset, time_step=1):\n",
    "\tdataX, dataY = [], []\n",
    "\tfor i in range(len(dataset)-time_step):\n",
    "\t\ta = dataset[i:(i+time_step), 0]   ###i=0, 0,1,2,3-----99   100 \n",
    "\t\tdataX.append(a)\n",
    "\t\tdataY.append(dataset[i + time_step, 0])\n",
    "\treturn numpy.array(dataX), numpy.array(dataY)"
   ]
  },
  {
   "cell_type": "code",
   "execution_count": 56,
   "metadata": {},
   "outputs": [],
   "source": [
    "# reshape into X=t,t+1,t+2,t+3 and Y=t+4\n",
    "time_step = 100\n",
    "X_train, y_train = create_dataset(train_data, time_step)\n",
    "X_test, ytest = create_dataset(test_data, time_step)"
   ]
  },
  {
   "cell_type": "code",
   "execution_count": 57,
   "metadata": {},
   "outputs": [
    {
     "name": "stdout",
     "output_type": "stream",
     "text": [
      "[[0. 0. 0. 0. 0. 0. 0. 0. 0. 0.]]\n",
      "[[0. 0. 0. 0. 0. 0. 0. 0. 0. 4.]]\n"
     ]
    }
   ],
   "source": [
    "a = np.zeros((1,10))\n",
    "print(a)\n",
    "a[0][-1] = 4\n",
    "print(a)"
   ]
  },
  {
   "cell_type": "code",
   "execution_count": 58,
   "metadata": {},
   "outputs": [
    {
     "name": "stdout",
     "output_type": "stream",
     "text": [
      "(1027, 100)\n",
      "(1027,)\n"
     ]
    },
    {
     "data": {
      "text/plain": [
       "(None, None)"
      ]
     },
     "execution_count": 58,
     "metadata": {},
     "output_type": "execute_result"
    }
   ],
   "source": [
    "print(X_train.shape), print(y_train.shape)"
   ]
  },
  {
   "cell_type": "code",
   "execution_count": 59,
   "metadata": {},
   "outputs": [
    {
     "name": "stdout",
     "output_type": "stream",
     "text": [
      "(507, 100)\n",
      "(507,)\n"
     ]
    },
    {
     "data": {
      "text/plain": [
       "(None, None)"
      ]
     },
     "execution_count": 59,
     "metadata": {},
     "output_type": "execute_result"
    }
   ],
   "source": [
    "print(X_test.shape), print(ytest.shape)"
   ]
  },
  {
   "cell_type": "code",
   "execution_count": 60,
   "metadata": {},
   "outputs": [],
   "source": [
    "# reshape input to be [samples, time steps, features] which is required for LSTM\n",
    "X_train =X_train.reshape(X_train.shape[0],X_train.shape[1] , 1)\n",
    "X_test = X_test.reshape(X_test.shape[0],X_test.shape[1] , 1)"
   ]
  },
  {
   "cell_type": "code",
   "execution_count": 61,
   "metadata": {},
   "outputs": [],
   "source": [
    "### Create the Stacked LSTM model\n",
    "from tensorflow.keras.models import Sequential\n",
    "from tensorflow.keras.layers import Dense\n",
    "from tensorflow.keras.layers import LSTM"
   ]
  },
  {
   "cell_type": "code",
   "execution_count": 62,
   "metadata": {},
   "outputs": [],
   "source": [
    "model=Sequential()\n",
    "model.add(LSTM(50,return_sequences=True,input_shape=(100,1)))\n",
    "model.add(LSTM(50,return_sequences=True))\n",
    "model.add(LSTM(50))\n",
    "model.add(Dense(1))\n",
    "tb_callback=tf.keras.callbacks.TensorBoard(log_dir=\"logs/\",histogram_freq=1)\n",
    "model.compile(loss='mean_squared_error',optimizer='adam',metrics=[tf.keras.metrics.MeanSquaredError()])\n"
   ]
  },
  {
   "cell_type": "code",
   "execution_count": 63,
   "metadata": {},
   "outputs": [
    {
     "name": "stdout",
     "output_type": "stream",
     "text": [
      "Model: \"sequential_1\"\n",
      "_________________________________________________________________\n",
      " Layer (type)                Output Shape              Param #   \n",
      "=================================================================\n",
      " lstm_3 (LSTM)               (None, 100, 50)           10400     \n",
      "                                                                 \n",
      " lstm_4 (LSTM)               (None, 100, 50)           20200     \n",
      "                                                                 \n",
      " lstm_5 (LSTM)               (None, 50)                20200     \n",
      "                                                                 \n",
      " dense_1 (Dense)             (None, 1)                 51        \n",
      "                                                                 \n",
      "=================================================================\n",
      "Total params: 50,851\n",
      "Trainable params: 50,851\n",
      "Non-trainable params: 0\n",
      "_________________________________________________________________\n"
     ]
    }
   ],
   "source": [
    "model.summary()"
   ]
  },
  {
   "cell_type": "code",
   "execution_count": 64,
   "metadata": {},
   "outputs": [
    {
     "name": "stdout",
     "output_type": "stream",
     "text": [
      "Epoch 1/100\n",
      "17/17 [==============================] - 8s 127ms/step - loss: 0.0074 - mean_squared_error: 0.0074 - val_loss: 0.0841 - val_mean_squared_error: 0.0841\n",
      "Epoch 2/100\n",
      "17/17 [==============================] - 1s 46ms/step - loss: 9.1131e-04 - mean_squared_error: 9.1131e-04 - val_loss: 0.0338 - val_mean_squared_error: 0.0338\n",
      "Epoch 3/100\n",
      "17/17 [==============================] - 1s 47ms/step - loss: 4.1029e-04 - mean_squared_error: 4.1029e-04 - val_loss: 0.0026 - val_mean_squared_error: 0.0026\n",
      "Epoch 4/100\n",
      "17/17 [==============================] - 1s 46ms/step - loss: 3.7436e-04 - mean_squared_error: 3.7436e-04 - val_loss: 0.0027 - val_mean_squared_error: 0.0027\n",
      "Epoch 5/100\n",
      "17/17 [==============================] - 1s 48ms/step - loss: 2.7296e-04 - mean_squared_error: 2.7296e-04 - val_loss: 0.0029 - val_mean_squared_error: 0.0029\n",
      "Epoch 6/100\n",
      "17/17 [==============================] - 1s 47ms/step - loss: 2.6514e-04 - mean_squared_error: 2.6514e-04 - val_loss: 0.0037 - val_mean_squared_error: 0.0037\n",
      "Epoch 7/100\n",
      "17/17 [==============================] - 1s 47ms/step - loss: 2.3719e-04 - mean_squared_error: 2.3719e-04 - val_loss: 0.0019 - val_mean_squared_error: 0.0019\n",
      "Epoch 8/100\n",
      "17/17 [==============================] - 1s 47ms/step - loss: 2.2691e-04 - mean_squared_error: 2.2691e-04 - val_loss: 0.0021 - val_mean_squared_error: 0.0021\n",
      "Epoch 9/100\n",
      "17/17 [==============================] - 1s 46ms/step - loss: 2.1449e-04 - mean_squared_error: 2.1449e-04 - val_loss: 0.0033 - val_mean_squared_error: 0.0033\n",
      "Epoch 10/100\n",
      "17/17 [==============================] - 1s 46ms/step - loss: 2.3475e-04 - mean_squared_error: 2.3475e-04 - val_loss: 0.0015 - val_mean_squared_error: 0.0015\n",
      "Epoch 11/100\n",
      "17/17 [==============================] - 1s 48ms/step - loss: 2.0156e-04 - mean_squared_error: 2.0156e-04 - val_loss: 0.0030 - val_mean_squared_error: 0.0030\n",
      "Epoch 12/100\n",
      "17/17 [==============================] - 1s 49ms/step - loss: 1.8840e-04 - mean_squared_error: 1.8840e-04 - val_loss: 0.0028 - val_mean_squared_error: 0.0028\n",
      "Epoch 13/100\n",
      "17/17 [==============================] - 1s 50ms/step - loss: 1.7849e-04 - mean_squared_error: 1.7849e-04 - val_loss: 0.0025 - val_mean_squared_error: 0.0025\n",
      "Epoch 14/100\n",
      "17/17 [==============================] - 1s 46ms/step - loss: 1.6236e-04 - mean_squared_error: 1.6236e-04 - val_loss: 0.0032 - val_mean_squared_error: 0.0032\n",
      "Epoch 15/100\n",
      "17/17 [==============================] - 1s 44ms/step - loss: 1.5470e-04 - mean_squared_error: 1.5470e-04 - val_loss: 0.0027 - val_mean_squared_error: 0.0027\n",
      "Epoch 16/100\n",
      "17/17 [==============================] - 1s 43ms/step - loss: 2.2949e-04 - mean_squared_error: 2.2949e-04 - val_loss: 0.0014 - val_mean_squared_error: 0.0014\n",
      "Epoch 17/100\n",
      "17/17 [==============================] - 1s 47ms/step - loss: 2.1617e-04 - mean_squared_error: 2.1617e-04 - val_loss: 0.0022 - val_mean_squared_error: 0.0022\n",
      "Epoch 18/100\n",
      "17/17 [==============================] - 1s 43ms/step - loss: 1.4807e-04 - mean_squared_error: 1.4807e-04 - val_loss: 0.0041 - val_mean_squared_error: 0.0041\n",
      "Epoch 19/100\n",
      "17/17 [==============================] - 1s 44ms/step - loss: 1.4170e-04 - mean_squared_error: 1.4170e-04 - val_loss: 0.0022 - val_mean_squared_error: 0.0022\n",
      "Epoch 20/100\n",
      "17/17 [==============================] - 1s 45ms/step - loss: 1.6321e-04 - mean_squared_error: 1.6321e-04 - val_loss: 0.0017 - val_mean_squared_error: 0.0017\n",
      "Epoch 21/100\n",
      "17/17 [==============================] - 1s 53ms/step - loss: 2.2927e-04 - mean_squared_error: 2.2927e-04 - val_loss: 0.0015 - val_mean_squared_error: 0.0015\n",
      "Epoch 22/100\n",
      "17/17 [==============================] - 1s 45ms/step - loss: 1.4759e-04 - mean_squared_error: 1.4759e-04 - val_loss: 0.0045 - val_mean_squared_error: 0.0045\n",
      "Epoch 23/100\n",
      "17/17 [==============================] - 1s 45ms/step - loss: 1.3617e-04 - mean_squared_error: 1.3617e-04 - val_loss: 0.0061 - val_mean_squared_error: 0.0061\n",
      "Epoch 24/100\n",
      "17/17 [==============================] - 1s 44ms/step - loss: 1.2763e-04 - mean_squared_error: 1.2763e-04 - val_loss: 0.0021 - val_mean_squared_error: 0.0021\n",
      "Epoch 25/100\n",
      "17/17 [==============================] - 1s 44ms/step - loss: 1.7653e-04 - mean_squared_error: 1.7653e-04 - val_loss: 0.0043 - val_mean_squared_error: 0.0043\n",
      "Epoch 26/100\n",
      "17/17 [==============================] - 1s 44ms/step - loss: 1.3564e-04 - mean_squared_error: 1.3564e-04 - val_loss: 0.0093 - val_mean_squared_error: 0.0093\n",
      "Epoch 27/100\n",
      "17/17 [==============================] - 1s 54ms/step - loss: 1.2641e-04 - mean_squared_error: 1.2641e-04 - val_loss: 0.0046 - val_mean_squared_error: 0.0046\n",
      "Epoch 28/100\n",
      "17/17 [==============================] - 1s 44ms/step - loss: 1.4177e-04 - mean_squared_error: 1.4177e-04 - val_loss: 0.0019 - val_mean_squared_error: 0.0019\n",
      "Epoch 29/100\n",
      "17/17 [==============================] - 1s 43ms/step - loss: 1.8643e-04 - mean_squared_error: 1.8643e-04 - val_loss: 0.0020 - val_mean_squared_error: 0.0020\n",
      "Epoch 30/100\n",
      "17/17 [==============================] - 1s 45ms/step - loss: 1.4299e-04 - mean_squared_error: 1.4299e-04 - val_loss: 0.0059 - val_mean_squared_error: 0.0059\n",
      "Epoch 31/100\n",
      "17/17 [==============================] - 1s 45ms/step - loss: 1.2738e-04 - mean_squared_error: 1.2738e-04 - val_loss: 0.0093 - val_mean_squared_error: 0.0093\n",
      "Epoch 32/100\n",
      "17/17 [==============================] - 1s 45ms/step - loss: 1.2237e-04 - mean_squared_error: 1.2237e-04 - val_loss: 0.0142 - val_mean_squared_error: 0.0142\n",
      "Epoch 33/100\n",
      "17/17 [==============================] - 1s 47ms/step - loss: 1.3080e-04 - mean_squared_error: 1.3080e-04 - val_loss: 0.0112 - val_mean_squared_error: 0.0112\n",
      "Epoch 34/100\n",
      "17/17 [==============================] - 1s 46ms/step - loss: 1.2350e-04 - mean_squared_error: 1.2350e-04 - val_loss: 0.0084 - val_mean_squared_error: 0.0084\n",
      "Epoch 35/100\n",
      "17/17 [==============================] - 1s 44ms/step - loss: 1.1404e-04 - mean_squared_error: 1.1404e-04 - val_loss: 0.0162 - val_mean_squared_error: 0.0162\n",
      "Epoch 36/100\n",
      "17/17 [==============================] - 1s 44ms/step - loss: 1.4212e-04 - mean_squared_error: 1.4212e-04 - val_loss: 0.0112 - val_mean_squared_error: 0.0112\n",
      "Epoch 37/100\n",
      "17/17 [==============================] - 1s 43ms/step - loss: 1.3274e-04 - mean_squared_error: 1.3274e-04 - val_loss: 0.0062 - val_mean_squared_error: 0.0062\n",
      "Epoch 38/100\n",
      "17/17 [==============================] - 1s 46ms/step - loss: 1.1796e-04 - mean_squared_error: 1.1796e-04 - val_loss: 0.0034 - val_mean_squared_error: 0.0034\n",
      "Epoch 39/100\n",
      "17/17 [==============================] - 1s 49ms/step - loss: 4.2152e-04 - mean_squared_error: 4.2152e-04 - val_loss: 0.0028 - val_mean_squared_error: 0.0028\n",
      "Epoch 40/100\n",
      "17/17 [==============================] - 1s 43ms/step - loss: 2.1274e-04 - mean_squared_error: 2.1274e-04 - val_loss: 0.0037 - val_mean_squared_error: 0.0037\n",
      "Epoch 41/100\n",
      "17/17 [==============================] - 1s 47ms/step - loss: 1.3673e-04 - mean_squared_error: 1.3673e-04 - val_loss: 0.0069 - val_mean_squared_error: 0.0069\n",
      "Epoch 42/100\n",
      "17/17 [==============================] - 1s 48ms/step - loss: 1.1641e-04 - mean_squared_error: 1.1641e-04 - val_loss: 0.0071 - val_mean_squared_error: 0.0071\n",
      "Epoch 43/100\n",
      "17/17 [==============================] - 1s 48ms/step - loss: 1.1411e-04 - mean_squared_error: 1.1411e-04 - val_loss: 0.0254 - val_mean_squared_error: 0.0254\n",
      "Epoch 44/100\n",
      "17/17 [==============================] - 1s 47ms/step - loss: 3.4352e-04 - mean_squared_error: 3.4352e-04 - val_loss: 0.0021 - val_mean_squared_error: 0.0021\n",
      "Epoch 45/100\n",
      "17/17 [==============================] - 1s 45ms/step - loss: 1.8598e-04 - mean_squared_error: 1.8598e-04 - val_loss: 0.0025 - val_mean_squared_error: 0.0025\n",
      "Epoch 46/100\n",
      "17/17 [==============================] - 1s 46ms/step - loss: 1.4801e-04 - mean_squared_error: 1.4801e-04 - val_loss: 0.0064 - val_mean_squared_error: 0.0064\n",
      "Epoch 47/100\n",
      "17/17 [==============================] - 1s 44ms/step - loss: 1.2088e-04 - mean_squared_error: 1.2088e-04 - val_loss: 0.0088 - val_mean_squared_error: 0.0088\n",
      "Epoch 48/100\n",
      "17/17 [==============================] - 1s 44ms/step - loss: 1.0573e-04 - mean_squared_error: 1.0573e-04 - val_loss: 0.0081 - val_mean_squared_error: 0.0081\n",
      "Epoch 49/100\n",
      "17/17 [==============================] - 1s 46ms/step - loss: 1.0332e-04 - mean_squared_error: 1.0332e-04 - val_loss: 0.0108 - val_mean_squared_error: 0.0108\n",
      "Epoch 50/100\n",
      "17/17 [==============================] - 1s 43ms/step - loss: 1.1588e-04 - mean_squared_error: 1.1588e-04 - val_loss: 0.0060 - val_mean_squared_error: 0.0060\n",
      "Epoch 51/100\n",
      "17/17 [==============================] - 1s 45ms/step - loss: 1.1235e-04 - mean_squared_error: 1.1235e-04 - val_loss: 0.0062 - val_mean_squared_error: 0.0062\n",
      "Epoch 52/100\n",
      "17/17 [==============================] - 1s 49ms/step - loss: 1.0594e-04 - mean_squared_error: 1.0594e-04 - val_loss: 0.0123 - val_mean_squared_error: 0.0123\n",
      "Epoch 53/100\n",
      "17/17 [==============================] - 1s 45ms/step - loss: 1.1826e-04 - mean_squared_error: 1.1826e-04 - val_loss: 0.0051 - val_mean_squared_error: 0.0051\n",
      "Epoch 54/100\n",
      "17/17 [==============================] - 1s 45ms/step - loss: 1.1389e-04 - mean_squared_error: 1.1389e-04 - val_loss: 0.0081 - val_mean_squared_error: 0.0081\n",
      "Epoch 55/100\n",
      "17/17 [==============================] - 1s 46ms/step - loss: 1.0845e-04 - mean_squared_error: 1.0845e-04 - val_loss: 0.0142 - val_mean_squared_error: 0.0142\n",
      "Epoch 56/100\n",
      "17/17 [==============================] - 1s 45ms/step - loss: 1.0934e-04 - mean_squared_error: 1.0934e-04 - val_loss: 0.0021 - val_mean_squared_error: 0.0021\n",
      "Epoch 57/100\n",
      "17/17 [==============================] - 1s 47ms/step - loss: 1.3441e-04 - mean_squared_error: 1.3441e-04 - val_loss: 0.0091 - val_mean_squared_error: 0.0091\n",
      "Epoch 58/100\n",
      "17/17 [==============================] - 1s 48ms/step - loss: 1.0287e-04 - mean_squared_error: 1.0287e-04 - val_loss: 0.0086 - val_mean_squared_error: 0.0086\n",
      "Epoch 59/100\n",
      "17/17 [==============================] - 1s 48ms/step - loss: 1.0398e-04 - mean_squared_error: 1.0398e-04 - val_loss: 0.0042 - val_mean_squared_error: 0.0042\n",
      "Epoch 60/100\n",
      "17/17 [==============================] - 1s 44ms/step - loss: 9.8172e-05 - mean_squared_error: 9.8172e-05 - val_loss: 0.0064 - val_mean_squared_error: 0.0064\n",
      "Epoch 61/100\n",
      "17/17 [==============================] - 1s 45ms/step - loss: 9.8813e-05 - mean_squared_error: 9.8813e-05 - val_loss: 0.0071 - val_mean_squared_error: 0.0071\n",
      "Epoch 62/100\n",
      "17/17 [==============================] - 1s 45ms/step - loss: 9.6403e-05 - mean_squared_error: 9.6403e-05 - val_loss: 0.0060 - val_mean_squared_error: 0.0060\n",
      "Epoch 63/100\n",
      "17/17 [==============================] - 1s 44ms/step - loss: 1.0102e-04 - mean_squared_error: 1.0102e-04 - val_loss: 0.0062 - val_mean_squared_error: 0.0062\n",
      "Epoch 64/100\n",
      "17/17 [==============================] - 1s 45ms/step - loss: 9.4860e-05 - mean_squared_error: 9.4860e-05 - val_loss: 0.0198 - val_mean_squared_error: 0.0198\n",
      "Epoch 65/100\n",
      "17/17 [==============================] - 1s 45ms/step - loss: 1.8112e-04 - mean_squared_error: 1.8112e-04 - val_loss: 0.0123 - val_mean_squared_error: 0.0123\n",
      "Epoch 66/100\n",
      "17/17 [==============================] - 1s 43ms/step - loss: 1.0101e-04 - mean_squared_error: 1.0101e-04 - val_loss: 0.0095 - val_mean_squared_error: 0.0095\n",
      "Epoch 67/100\n",
      "17/17 [==============================] - 1s 44ms/step - loss: 1.0530e-04 - mean_squared_error: 1.0530e-04 - val_loss: 0.0068 - val_mean_squared_error: 0.0068\n",
      "Epoch 68/100\n",
      "17/17 [==============================] - 1s 44ms/step - loss: 9.7286e-05 - mean_squared_error: 9.7286e-05 - val_loss: 0.0072 - val_mean_squared_error: 0.0072\n",
      "Epoch 69/100\n",
      "17/17 [==============================] - 1s 44ms/step - loss: 9.5204e-05 - mean_squared_error: 9.5204e-05 - val_loss: 0.0085 - val_mean_squared_error: 0.0085\n",
      "Epoch 70/100\n",
      "17/17 [==============================] - 1s 45ms/step - loss: 1.0192e-04 - mean_squared_error: 1.0192e-04 - val_loss: 0.0056 - val_mean_squared_error: 0.0056\n",
      "Epoch 71/100\n",
      "17/17 [==============================] - 1s 45ms/step - loss: 9.8009e-05 - mean_squared_error: 9.8009e-05 - val_loss: 0.0061 - val_mean_squared_error: 0.0061\n",
      "Epoch 72/100\n",
      "17/17 [==============================] - 1s 45ms/step - loss: 9.7451e-05 - mean_squared_error: 9.7451e-05 - val_loss: 0.0063 - val_mean_squared_error: 0.0063\n",
      "Epoch 73/100\n",
      "17/17 [==============================] - 1s 45ms/step - loss: 9.5688e-05 - mean_squared_error: 9.5688e-05 - val_loss: 0.0044 - val_mean_squared_error: 0.0044\n",
      "Epoch 74/100\n",
      "17/17 [==============================] - 1s 46ms/step - loss: 8.9229e-05 - mean_squared_error: 8.9229e-05 - val_loss: 0.0070 - val_mean_squared_error: 0.0070\n",
      "Epoch 75/100\n",
      "17/17 [==============================] - 1s 45ms/step - loss: 9.8113e-05 - mean_squared_error: 9.8113e-05 - val_loss: 0.0092 - val_mean_squared_error: 0.0092\n",
      "Epoch 76/100\n",
      "17/17 [==============================] - 1s 49ms/step - loss: 8.9426e-05 - mean_squared_error: 8.9426e-05 - val_loss: 0.0140 - val_mean_squared_error: 0.0140\n",
      "Epoch 77/100\n",
      "17/17 [==============================] - 1s 45ms/step - loss: 9.2596e-05 - mean_squared_error: 9.2596e-05 - val_loss: 0.0151 - val_mean_squared_error: 0.0151\n",
      "Epoch 78/100\n",
      "17/17 [==============================] - 1s 45ms/step - loss: 1.0277e-04 - mean_squared_error: 1.0277e-04 - val_loss: 0.0079 - val_mean_squared_error: 0.0079\n",
      "Epoch 79/100\n",
      "17/17 [==============================] - 1s 45ms/step - loss: 8.9441e-05 - mean_squared_error: 8.9441e-05 - val_loss: 0.0040 - val_mean_squared_error: 0.0040\n",
      "Epoch 80/100\n",
      "17/17 [==============================] - 1s 44ms/step - loss: 1.1118e-04 - mean_squared_error: 1.1118e-04 - val_loss: 0.0023 - val_mean_squared_error: 0.0023\n",
      "Epoch 81/100\n",
      "17/17 [==============================] - 1s 45ms/step - loss: 1.0641e-04 - mean_squared_error: 1.0641e-04 - val_loss: 0.0038 - val_mean_squared_error: 0.0038\n",
      "Epoch 82/100\n",
      "17/17 [==============================] - 1s 46ms/step - loss: 9.0033e-05 - mean_squared_error: 9.0033e-05 - val_loss: 0.0033 - val_mean_squared_error: 0.0033\n",
      "Epoch 83/100\n",
      "17/17 [==============================] - 1s 46ms/step - loss: 1.3841e-04 - mean_squared_error: 1.3841e-04 - val_loss: 0.0021 - val_mean_squared_error: 0.0021\n",
      "Epoch 84/100\n",
      "17/17 [==============================] - 1s 45ms/step - loss: 9.0538e-05 - mean_squared_error: 9.0538e-05 - val_loss: 0.0034 - val_mean_squared_error: 0.0034\n",
      "Epoch 85/100\n",
      "17/17 [==============================] - 1s 44ms/step - loss: 8.3852e-05 - mean_squared_error: 8.3852e-05 - val_loss: 0.0092 - val_mean_squared_error: 0.0092\n",
      "Epoch 86/100\n",
      "17/17 [==============================] - 1s 44ms/step - loss: 9.8683e-05 - mean_squared_error: 9.8683e-05 - val_loss: 0.0083 - val_mean_squared_error: 0.0083\n",
      "Epoch 87/100\n",
      "17/17 [==============================] - 1s 44ms/step - loss: 8.4401e-05 - mean_squared_error: 8.4401e-05 - val_loss: 0.0055 - val_mean_squared_error: 0.0055\n",
      "Epoch 88/100\n",
      "17/17 [==============================] - 1s 45ms/step - loss: 8.4511e-05 - mean_squared_error: 8.4511e-05 - val_loss: 0.0031 - val_mean_squared_error: 0.0031\n",
      "Epoch 89/100\n",
      "17/17 [==============================] - 1s 44ms/step - loss: 1.1195e-04 - mean_squared_error: 1.1195e-04 - val_loss: 0.0107 - val_mean_squared_error: 0.0107\n",
      "Epoch 90/100\n",
      "17/17 [==============================] - 1s 46ms/step - loss: 1.1378e-04 - mean_squared_error: 1.1378e-04 - val_loss: 0.0082 - val_mean_squared_error: 0.0082\n",
      "Epoch 91/100\n",
      "17/17 [==============================] - 1s 45ms/step - loss: 8.1577e-05 - mean_squared_error: 8.1577e-05 - val_loss: 0.0071 - val_mean_squared_error: 0.0071\n",
      "Epoch 92/100\n",
      "17/17 [==============================] - 1s 42ms/step - loss: 8.2353e-05 - mean_squared_error: 8.2353e-05 - val_loss: 0.0044 - val_mean_squared_error: 0.0044\n",
      "Epoch 93/100\n",
      "17/17 [==============================] - 1s 44ms/step - loss: 7.9231e-05 - mean_squared_error: 7.9231e-05 - val_loss: 0.0029 - val_mean_squared_error: 0.0029\n",
      "Epoch 94/100\n",
      "17/17 [==============================] - 1s 45ms/step - loss: 8.9139e-05 - mean_squared_error: 8.9139e-05 - val_loss: 0.0070 - val_mean_squared_error: 0.0070\n",
      "Epoch 95/100\n",
      "17/17 [==============================] - 1s 46ms/step - loss: 9.1649e-05 - mean_squared_error: 9.1649e-05 - val_loss: 0.0078 - val_mean_squared_error: 0.0078\n",
      "Epoch 96/100\n",
      "17/17 [==============================] - 1s 47ms/step - loss: 8.2622e-05 - mean_squared_error: 8.2622e-05 - val_loss: 0.0069 - val_mean_squared_error: 0.0069\n",
      "Epoch 97/100\n",
      "17/17 [==============================] - 1s 47ms/step - loss: 8.8551e-05 - mean_squared_error: 8.8551e-05 - val_loss: 0.0071 - val_mean_squared_error: 0.0071\n",
      "Epoch 98/100\n",
      "17/17 [==============================] - 1s 47ms/step - loss: 7.6176e-05 - mean_squared_error: 7.6176e-05 - val_loss: 0.0064 - val_mean_squared_error: 0.0064\n",
      "Epoch 99/100\n",
      "17/17 [==============================] - 1s 46ms/step - loss: 7.6703e-05 - mean_squared_error: 7.6703e-05 - val_loss: 0.0066 - val_mean_squared_error: 0.0066\n",
      "Epoch 100/100\n",
      "17/17 [==============================] - 1s 45ms/step - loss: 7.5914e-05 - mean_squared_error: 7.5914e-05 - val_loss: 0.0095 - val_mean_squared_error: 0.0095\n"
     ]
    }
   ],
   "source": [
    "history=model.fit(X_train,y_train,validation_data=(X_test,ytest),epochs=100,batch_size=64,verbose=1,callbacks=[tb_callback])"
   ]
  },
  {
   "cell_type": "code",
   "execution_count": 65,
   "metadata": {},
   "outputs": [
    {
     "name": "stdout",
     "output_type": "stream",
     "text": [
      "33/33 [==============================] - 1s 9ms/step\n",
      "16/16 [==============================] - 0s 10ms/step\n"
     ]
    }
   ],
   "source": [
    "### Lets Do the prediction and check performance metrics\n",
    "train_predict=model.predict(X_train)\n",
    "test_predict=model.predict(X_test)"
   ]
  },
  {
   "cell_type": "code",
   "execution_count": 66,
   "metadata": {},
   "outputs": [],
   "source": [
    "##Transformback to original form\n",
    "train_predict=scaler.inverse_transform(train_predict)\n",
    "test_predict=scaler.inverse_transform(test_predict)"
   ]
  },
  {
   "cell_type": "code",
   "execution_count": 67,
   "metadata": {},
   "outputs": [
    {
     "data": {
      "text/plain": [
       "47.62839222884854"
      ]
     },
     "execution_count": 67,
     "metadata": {},
     "output_type": "execute_result"
    }
   ],
   "source": [
    "### Calculate RMSE performance metrics\n",
    "import math\n",
    "from sklearn.metrics import mean_squared_error\n",
    "math.sqrt(mean_squared_error(y_train,train_predict))"
   ]
  },
  {
   "cell_type": "code",
   "execution_count": 68,
   "metadata": {},
   "outputs": [
    {
     "data": {
      "text/plain": [
       "132.24838815519945"
      ]
     },
     "execution_count": 68,
     "metadata": {},
     "output_type": "execute_result"
    }
   ],
   "source": [
    "### Test Data RMSE\n",
    "math.sqrt(mean_squared_error(ytest,test_predict))"
   ]
  },
  {
   "cell_type": "code",
   "execution_count": 69,
   "metadata": {
    "scrolled": true
   },
   "outputs": [
    {
     "data": {
      "image/png": "[encoded data removed]",
      "text/plain": [
       "<Figure size 640x480 with 1 Axes>"
      ]
     },
     "metadata": {},
     "output_type": "display_data"
    }
   ],
   "source": [
    "### Plotting \n",
    "# shift train predictions for plotting\n",
    "look_back=100\n",
    "trainPredictPlot = numpy.empty_like(df1)\n",
    "trainPredictPlot[:, :] = np.nan\n",
    "trainPredictPlot[look_back:len(train_predict)+look_back, :] = train_predict\n",
    "# shift test predictions for plotting\n",
    "testPredictPlot = numpy.empty_like(df1)\n",
    "testPredictPlot[:, :] = numpy.nan\n",
    "testPredictPlot[len(train_predict)+2*look_back:len(train_predict)+2*look_back+len(test_predict), :] = test_predict\n",
    "# plot baseline and predictions\n",
    "plt.plot(scaler.inverse_transform(df1))\n",
    "plt.plot(trainPredictPlot)\n",
    "plt.plot(testPredictPlot)\n",
    "plt.show()\n"
   ]
  },
  {
   "cell_type": "code",
   "execution_count": 70,
   "metadata": {},
   "outputs": [
    {
     "data": {
      "text/plain": [
       "607"
      ]
     },
     "execution_count": 70,
     "metadata": {},
     "output_type": "execute_result"
    }
   ],
   "source": [
    "len(test_data)"
   ]
  },
  {
   "cell_type": "code",
   "execution_count": 71,
   "metadata": {},
   "outputs": [],
   "source": [
    "# print(test_data)\n",
    "x_input=test_data[507:].reshape(1,-1)\n",
    "\n"
   ]
  },
  {
   "cell_type": "code",
   "execution_count": 72,
   "metadata": {},
   "outputs": [
    {
     "name": "stdout",
     "output_type": "stream",
     "text": [
      "[0.7159166056996482, 0.729778873571369, 0.7462756906702385, 0.754806347933043, 0.7763212175335417, 0.7806491900429466, 0.7670377862201733, 0.7732476405393794, 0.7709268250506965, 0.7896189754334383, 0.8002822781943177, 0.7808374541216861, 0.8054885006865548, 0.8182844426729671, 0.8327740964785724, 0.824870630700847, 0.8177199389736851, 0.8092520635848095, 0.8418064755667298, 0.8453191806885791, 0.8776854289524336, 0.8714128868474302, 0.862004073689925, 0.900392094097967, 0.8983848367165712, 0.8954995175286065, 0.8924886283202416, 0.8928022742431181, 0.9198997000445275, 0.915195293465775, 0.9378391767373795, 0.9446762225416645, 0.9436725969872377, 0.9532068860770113, 0.9506978127821311, 0.9342010897713933, 0.909424567274256, 0.9072918339605918, 0.909173615409719, 0.9248549706722275, 0.8846479506889873, 0.8705975190992008, 0.8551043338273001, 0.8445037188522181, 0.8491454376451733, 0.835659415666537, 0.8276305680446747, 0.8366003534351664, 0.8271915402776613, 0.8454445625327159, 0.8834561551439524, 0.8233024951745962, 0.8325231446140353, 0.8140818520076989, 0.8036067192374274, 0.8273169221217983, 0.8424964614708222, 0.8225498214847061, 0.8164027553119713, 0.8019131077789081, 0.8040458410925725, 0.8102556013236469, 0.7982123267545825, 0.7520464168617573, 0.7251999429248849, 0.7518582468711493, 0.7747530820072908, 0.7766347693682865, 0.7705503972538911, 0.7370550412307992, 0.7391249926705344, 0.7300925194942454, 0.7260780925470434, 0.755245469788188, 0.7263290506841223, 0.7516073890947439, 0.7600125704252801, 0.7607025563293727, 0.7577544489949367, 0.7820919437250605, 0.7957660416061731, 0.813893682017091, 0.7951388438485518, 0.7665987584531601, 0.8352203816269814, 0.8201662241220945, 0.8032930733145509, 0.7680414180471423, 0.729465321736624, 0.7263290506841223, 0.7297161795130294, 0.7333542664790156, 0.7043123651701392, 0.7795828704301802, 0.797334177132424, 0.7884271798884035, 0.7994668163579569, 0.7916261387267026, 0.803732195169696, 0.8073074939892111]\n"
     ]
    }
   ],
   "source": [
    "temp_input=list(x_input)\n",
    "# print(x_input)\n",
    "temp_input=temp_input[0].tolist()\n",
    "print(temp_input)"
   ]
  },
  {
   "cell_type": "code",
   "execution_count": 73,
   "metadata": {},
   "outputs": [
    {
     "name": "stdout",
     "output_type": "stream",
     "text": [
      "100\n"
     ]
    }
   ],
   "source": [
    "print(len(temp_input))"
   ]
  },
  {
   "cell_type": "code",
   "execution_count": 74,
   "metadata": {
    "scrolled": true
   },
   "outputs": [
    {
     "name": "stdout",
     "output_type": "stream",
     "text": [
      "1 day input [0.72977887 0.74627569 0.75480635 0.77632122 0.78064919 0.76703779\n",
      " 0.77324764 0.77092683 0.78961898 0.80028228 0.78083745 0.8054885\n",
      " 0.81828444 0.8327741  0.82487063 0.81771994 0.80925206 0.84180648\n",
      " 0.84531918 0.87768543 0.87141289 0.86200407 0.90039209 0.89838484\n",
      " 0.89549952 0.89248863 0.89280227 0.9198997  0.91519529 0.93783918\n",
      " 0.94467622 0.9436726  0.95320689 0.95069781 0.93420109 0.90942457\n",
      " 0.90729183 0.90917362 0.92485497 0.88464795 0.87059752 0.85510433\n",
      " 0.84450372 0.84914544 0.83565942 0.82763057 0.83660035 0.82719154\n",
      " 0.84544456 0.88345616 0.8233025  0.83252314 0.81408185 0.80360672\n",
      " 0.82731692 0.84249646 0.82254982 0.81640276 0.80191311 0.80404584\n",
      " 0.8102556  0.79821233 0.75204642 0.72519994 0.75185825 0.77475308\n",
      " 0.77663477 0.7705504  0.73705504 0.73912499 0.73009252 0.72607809\n",
      " 0.75524547 0.72632905 0.75160739 0.76001257 0.76070256 0.75775445\n",
      " 0.78209194 0.79576604 0.81389368 0.79513884 0.76659876 0.83522038\n",
      " 0.82016622 0.80329307 0.76804142 0.72946532 0.72632905 0.72971618\n",
      " 0.73335427 0.70431237 0.77958287 0.79733418 0.78842718 0.79946682\n",
      " 0.79162614 0.8037322  0.80730749 0.71910673]\n",
      "1 day output [[0.71025604]]\n",
      "2 day input [0.74627569 0.75480635 0.77632122 0.78064919 0.76703779 0.77324764\n",
      " 0.77092683 0.78961898 0.80028228 0.78083745 0.8054885  0.81828444\n",
      " 0.8327741  0.82487063 0.81771994 0.80925206 0.84180648 0.84531918\n",
      " 0.87768543 0.87141289 0.86200407 0.90039209 0.89838484 0.89549952\n",
      " 0.89248863 0.89280227 0.9198997  0.91519529 0.93783918 0.94467622\n",
      " 0.9436726  0.95320689 0.95069781 0.93420109 0.90942457 0.90729183\n",
      " 0.90917362 0.92485497 0.88464795 0.87059752 0.85510433 0.84450372\n",
      " 0.84914544 0.83565942 0.82763057 0.83660035 0.82719154 0.84544456\n",
      " 0.88345616 0.8233025  0.83252314 0.81408185 0.80360672 0.82731692\n",
      " 0.84249646 0.82254982 0.81640276 0.80191311 0.80404584 0.8102556\n",
      " 0.79821233 0.75204642 0.72519994 0.75185825 0.77475308 0.77663477\n",
      " 0.7705504  0.73705504 0.73912499 0.73009252 0.72607809 0.75524547\n",
      " 0.72632905 0.75160739 0.76001257 0.76070256 0.75775445 0.78209194\n",
      " 0.79576604 0.81389368 0.79513884 0.76659876 0.83522038 0.82016622\n",
      " 0.80329307 0.76804142 0.72946532 0.72632905 0.72971618 0.73335427\n",
      " 0.70431237 0.77958287 0.79733418 0.78842718 0.79946682 0.79162614\n",
      " 0.8037322  0.80730749 0.71910673 0.71025604]\n",
      "2 day output [[0.6876511]]\n",
      "3 day input [0.75480635 0.77632122 0.78064919 0.76703779 0.77324764 0.77092683\n",
      " 0.78961898 0.80028228 0.78083745 0.8054885  0.81828444 0.8327741\n",
      " 0.82487063 0.81771994 0.80925206 0.84180648 0.84531918 0.87768543\n",
      " 0.87141289 0.86200407 0.90039209 0.89838484 0.89549952 0.89248863\n",
      " 0.89280227 0.9198997  0.91519529 0.93783918 0.94467622 0.9436726\n",
      " 0.95320689 0.95069781 0.93420109 0.90942457 0.90729183 0.90917362\n",
      " 0.92485497 0.88464795 0.87059752 0.85510433 0.84450372 0.84914544\n",
      " 0.83565942 0.82763057 0.83660035 0.82719154 0.84544456 0.88345616\n",
      " 0.8233025  0.83252314 0.81408185 0.80360672 0.82731692 0.84249646\n",
      " 0.82254982 0.81640276 0.80191311 0.80404584 0.8102556  0.79821233\n",
      " 0.75204642 0.72519994 0.75185825 0.77475308 0.77663477 0.7705504\n",
      " 0.73705504 0.73912499 0.73009252 0.72607809 0.75524547 0.72632905\n",
      " 0.75160739 0.76001257 0.76070256 0.75775445 0.78209194 0.79576604\n",
      " 0.81389368 0.79513884 0.76659876 0.83522038 0.82016622 0.80329307\n",
      " 0.76804142 0.72946532 0.72632905 0.72971618 0.73335427 0.70431237\n",
      " 0.77958287 0.79733418 0.78842718 0.79946682 0.79162614 0.8037322\n",
      " 0.80730749 0.71910673 0.71025604 0.6876511 ]\n",
      "3 day output [[0.65658444]]\n",
      "4 day input [0.77632122 0.78064919 0.76703779 0.77324764 0.77092683 0.78961898\n",
      " 0.80028228 0.78083745 0.8054885  0.81828444 0.8327741  0.82487063\n",
      " 0.81771994 0.80925206 0.84180648 0.84531918 0.87768543 0.87141289\n",
      " 0.86200407 0.90039209 0.89838484 0.89549952 0.89248863 0.89280227\n",
      " 0.9198997  0.91519529 0.93783918 0.94467622 0.9436726  0.95320689\n",
      " 0.95069781 0.93420109 0.90942457 0.90729183 0.90917362 0.92485497\n",
      " 0.88464795 0.87059752 0.85510433 0.84450372 0.84914544 0.83565942\n",
      " 0.82763057 0.83660035 0.82719154 0.84544456 0.88345616 0.8233025\n",
      " 0.83252314 0.81408185 0.80360672 0.82731692 0.84249646 0.82254982\n",
      " 0.81640276 0.80191311 0.80404584 0.8102556  0.79821233 0.75204642\n",
      " 0.72519994 0.75185825 0.77475308 0.77663477 0.7705504  0.73705504\n",
      " 0.73912499 0.73009252 0.72607809 0.75524547 0.72632905 0.75160739\n",
      " 0.76001257 0.76070256 0.75775445 0.78209194 0.79576604 0.81389368\n",
      " 0.79513884 0.76659876 0.83522038 0.82016622 0.80329307 0.76804142\n",
      " 0.72946532 0.72632905 0.72971618 0.73335427 0.70431237 0.77958287\n",
      " 0.79733418 0.78842718 0.79946682 0.79162614 0.8037322  0.80730749\n",
      " 0.71910673 0.71025604 0.6876511  0.65658444]\n",
      "4 day output [[0.61997426]]\n",
      "5 day input [0.78064919 0.76703779 0.77324764 0.77092683 0.78961898 0.80028228\n",
      " 0.78083745 0.8054885  0.81828444 0.8327741  0.82487063 0.81771994\n",
      " 0.80925206 0.84180648 0.84531918 0.87768543 0.87141289 0.86200407\n",
      " 0.90039209 0.89838484 0.89549952 0.89248863 0.89280227 0.9198997\n",
      " 0.91519529 0.93783918 0.94467622 0.9436726  0.95320689 0.95069781\n",
      " 0.93420109 0.90942457 0.90729183 0.90917362 0.92485497 0.88464795\n",
      " 0.87059752 0.85510433 0.84450372 0.84914544 0.83565942 0.82763057\n",
      " 0.83660035 0.82719154 0.84544456 0.88345616 0.8233025  0.83252314\n",
      " 0.81408185 0.80360672 0.82731692 0.84249646 0.82254982 0.81640276\n",
      " 0.80191311 0.80404584 0.8102556  0.79821233 0.75204642 0.72519994\n",
      " 0.75185825 0.77475308 0.77663477 0.7705504  0.73705504 0.73912499\n",
      " 0.73009252 0.72607809 0.75524547 0.72632905 0.75160739 0.76001257\n",
      " 0.76070256 0.75775445 0.78209194 0.79576604 0.81389368 0.79513884\n",
      " 0.76659876 0.83522038 0.82016622 0.80329307 0.76804142 0.72946532\n",
      " 0.72632905 0.72971618 0.73335427 0.70431237 0.77958287 0.79733418\n",
      " 0.78842718 0.79946682 0.79162614 0.8037322  0.80730749 0.71910673\n",
      " 0.71025604 0.6876511  0.65658444 0.61997426]\n",
      "5 day output [[0.5790352]]\n",
      "6 day input [0.76703779 0.77324764 0.77092683 0.78961898 0.80028228 0.78083745\n",
      " 0.8054885  0.81828444 0.8327741  0.82487063 0.81771994 0.80925206\n",
      " 0.84180648 0.84531918 0.87768543 0.87141289 0.86200407 0.90039209\n",
      " 0.89838484 0.89549952 0.89248863 0.89280227 0.9198997  0.91519529\n",
      " 0.93783918 0.94467622 0.9436726  0.95320689 0.95069781 0.93420109\n",
      " 0.90942457 0.90729183 0.90917362 0.92485497 0.88464795 0.87059752\n",
      " 0.85510433 0.84450372 0.84914544 0.83565942 0.82763057 0.83660035\n",
      " 0.82719154 0.84544456 0.88345616 0.8233025  0.83252314 0.81408185\n",
      " 0.80360672 0.82731692 0.84249646 0.82254982 0.81640276 0.80191311\n",
      " 0.80404584 0.8102556  0.79821233 0.75204642 0.72519994 0.75185825\n",
      " 0.77475308 0.77663477 0.7705504  0.73705504 0.73912499 0.73009252\n",
      " 0.72607809 0.75524547 0.72632905 0.75160739 0.76001257 0.76070256\n",
      " 0.75775445 0.78209194 0.79576604 0.81389368 0.79513884 0.76659876\n",
      " 0.83522038 0.82016622 0.80329307 0.76804142 0.72946532 0.72632905\n",
      " 0.72971618 0.73335427 0.70431237 0.77958287 0.79733418 0.78842718\n",
      " 0.79946682 0.79162614 0.8037322  0.80730749 0.71910673 0.71025604\n",
      " 0.6876511  0.65658444 0.61997426 0.57903522]\n",
      "6 day output [[0.5341078]]\n",
      "7 day input [0.77324764 0.77092683 0.78961898 0.80028228 0.78083745 0.8054885\n",
      " 0.81828444 0.8327741  0.82487063 0.81771994 0.80925206 0.84180648\n",
      " 0.84531918 0.87768543 0.87141289 0.86200407 0.90039209 0.89838484\n",
      " 0.89549952 0.89248863 0.89280227 0.9198997  0.91519529 0.93783918\n",
      " 0.94467622 0.9436726  0.95320689 0.95069781 0.93420109 0.90942457\n",
      " 0.90729183 0.90917362 0.92485497 0.88464795 0.87059752 0.85510433\n",
      " 0.84450372 0.84914544 0.83565942 0.82763057 0.83660035 0.82719154\n",
      " 0.84544456 0.88345616 0.8233025  0.83252314 0.81408185 0.80360672\n",
      " 0.82731692 0.84249646 0.82254982 0.81640276 0.80191311 0.80404584\n",
      " 0.8102556  0.79821233 0.75204642 0.72519994 0.75185825 0.77475308\n",
      " 0.77663477 0.7705504  0.73705504 0.73912499 0.73009252 0.72607809\n",
      " 0.75524547 0.72632905 0.75160739 0.76001257 0.76070256 0.75775445\n",
      " 0.78209194 0.79576604 0.81389368 0.79513884 0.76659876 0.83522038\n",
      " 0.82016622 0.80329307 0.76804142 0.72946532 0.72632905 0.72971618\n",
      " 0.73335427 0.70431237 0.77958287 0.79733418 0.78842718 0.79946682\n",
      " 0.79162614 0.8037322  0.80730749 0.71910673 0.71025604 0.6876511\n",
      " 0.65658444 0.61997426 0.57903522 0.5341078 ]\n",
      "7 day output [[0.48519346]]\n",
      "8 day input [0.77092683 0.78961898 0.80028228 0.78083745 0.8054885  0.81828444\n",
      " 0.8327741  0.82487063 0.81771994 0.80925206 0.84180648 0.84531918\n",
      " 0.87768543 0.87141289 0.86200407 0.90039209 0.89838484 0.89549952\n",
      " 0.89248863 0.89280227 0.9198997  0.91519529 0.93783918 0.94467622\n",
      " 0.9436726  0.95320689 0.95069781 0.93420109 0.90942457 0.90729183\n",
      " 0.90917362 0.92485497 0.88464795 0.87059752 0.85510433 0.84450372\n",
      " 0.84914544 0.83565942 0.82763057 0.83660035 0.82719154 0.84544456\n",
      " 0.88345616 0.8233025  0.83252314 0.81408185 0.80360672 0.82731692\n",
      " 0.84249646 0.82254982 0.81640276 0.80191311 0.80404584 0.8102556\n",
      " 0.79821233 0.75204642 0.72519994 0.75185825 0.77475308 0.77663477\n",
      " 0.7705504  0.73705504 0.73912499 0.73009252 0.72607809 0.75524547\n",
      " 0.72632905 0.75160739 0.76001257 0.76070256 0.75775445 0.78209194\n",
      " 0.79576604 0.81389368 0.79513884 0.76659876 0.83522038 0.82016622\n",
      " 0.80329307 0.76804142 0.72946532 0.72632905 0.72971618 0.73335427\n",
      " 0.70431237 0.77958287 0.79733418 0.78842718 0.79946682 0.79162614\n",
      " 0.8037322  0.80730749 0.71910673 0.71025604 0.6876511  0.65658444\n",
      " 0.61997426 0.57903522 0.5341078  0.48519346]\n",
      "8 day output [[0.43226188]]\n",
      "9 day input [0.78961898 0.80028228 0.78083745 0.8054885  0.81828444 0.8327741\n",
      " 0.82487063 0.81771994 0.80925206 0.84180648 0.84531918 0.87768543\n",
      " 0.87141289 0.86200407 0.90039209 0.89838484 0.89549952 0.89248863\n",
      " 0.89280227 0.9198997  0.91519529 0.93783918 0.94467622 0.9436726\n",
      " 0.95320689 0.95069781 0.93420109 0.90942457 0.90729183 0.90917362\n",
      " 0.92485497 0.88464795 0.87059752 0.85510433 0.84450372 0.84914544\n",
      " 0.83565942 0.82763057 0.83660035 0.82719154 0.84544456 0.88345616\n",
      " 0.8233025  0.83252314 0.81408185 0.80360672 0.82731692 0.84249646\n",
      " 0.82254982 0.81640276 0.80191311 0.80404584 0.8102556  0.79821233\n",
      " 0.75204642 0.72519994 0.75185825 0.77475308 0.77663477 0.7705504\n",
      " 0.73705504 0.73912499 0.73009252 0.72607809 0.75524547 0.72632905\n",
      " 0.75160739 0.76001257 0.76070256 0.75775445 0.78209194 0.79576604\n",
      " 0.81389368 0.79513884 0.76659876 0.83522038 0.82016622 0.80329307\n",
      " 0.76804142 0.72946532 0.72632905 0.72971618 0.73335427 0.70431237\n",
      " 0.77958287 0.79733418 0.78842718 0.79946682 0.79162614 0.8037322\n",
      " 0.80730749 0.71910673 0.71025604 0.6876511  0.65658444 0.61997426\n",
      " 0.57903522 0.5341078  0.48519346 0.43226188]\n",
      "9 day output [[0.3754632]]\n",
      "10 day input [0.80028228 0.78083745 0.8054885  0.81828444 0.8327741  0.82487063\n",
      " 0.81771994 0.80925206 0.84180648 0.84531918 0.87768543 0.87141289\n",
      " 0.86200407 0.90039209 0.89838484 0.89549952 0.89248863 0.89280227\n",
      " 0.9198997  0.91519529 0.93783918 0.94467622 0.9436726  0.95320689\n",
      " 0.95069781 0.93420109 0.90942457 0.90729183 0.90917362 0.92485497\n",
      " 0.88464795 0.87059752 0.85510433 0.84450372 0.84914544 0.83565942\n",
      " 0.82763057 0.83660035 0.82719154 0.84544456 0.88345616 0.8233025\n",
      " 0.83252314 0.81408185 0.80360672 0.82731692 0.84249646 0.82254982\n",
      " 0.81640276 0.80191311 0.80404584 0.8102556  0.79821233 0.75204642\n",
      " 0.72519994 0.75185825 0.77475308 0.77663477 0.7705504  0.73705504\n",
      " 0.73912499 0.73009252 0.72607809 0.75524547 0.72632905 0.75160739\n",
      " 0.76001257 0.76070256 0.75775445 0.78209194 0.79576604 0.81389368\n",
      " 0.79513884 0.76659876 0.83522038 0.82016622 0.80329307 0.76804142\n",
      " 0.72946532 0.72632905 0.72971618 0.73335427 0.70431237 0.77958287\n",
      " 0.79733418 0.78842718 0.79946682 0.79162614 0.8037322  0.80730749\n",
      " 0.71910673 0.71025604 0.6876511  0.65658444 0.61997426 0.57903522\n",
      " 0.5341078  0.48519346 0.43226188 0.37546319]\n",
      "10 day output [[0.31532577]]\n",
      "11 day input [0.78083745 0.8054885  0.81828444 0.8327741  0.82487063 0.81771994\n",
      " 0.80925206 0.84180648 0.84531918 0.87768543 0.87141289 0.86200407\n",
      " 0.90039209 0.89838484 0.89549952 0.89248863 0.89280227 0.9198997\n",
      " 0.91519529 0.93783918 0.94467622 0.9436726  0.95320689 0.95069781\n",
      " 0.93420109 0.90942457 0.90729183 0.90917362 0.92485497 0.88464795\n",
      " 0.87059752 0.85510433 0.84450372 0.84914544 0.83565942 0.82763057\n",
      " 0.83660035 0.82719154 0.84544456 0.88345616 0.8233025  0.83252314\n",
      " 0.81408185 0.80360672 0.82731692 0.84249646 0.82254982 0.81640276\n",
      " 0.80191311 0.80404584 0.8102556  0.79821233 0.75204642 0.72519994\n",
      " 0.75185825 0.77475308 0.77663477 0.7705504  0.73705504 0.73912499\n",
      " 0.73009252 0.72607809 0.75524547 0.72632905 0.75160739 0.76001257\n",
      " 0.76070256 0.75775445 0.78209194 0.79576604 0.81389368 0.79513884\n",
      " 0.76659876 0.83522038 0.82016622 0.80329307 0.76804142 0.72946532\n",
      " 0.72632905 0.72971618 0.73335427 0.70431237 0.77958287 0.79733418\n",
      " 0.78842718 0.79946682 0.79162614 0.8037322  0.80730749 0.71910673\n",
      " 0.71025604 0.6876511  0.65658444 0.61997426 0.57903522 0.5341078\n",
      " 0.48519346 0.43226188 0.37546319 0.31532577]\n",
      "11 day output [[0.25295523]]\n",
      "12 day input [0.8054885  0.81828444 0.8327741  0.82487063 0.81771994 0.80925206\n",
      " 0.84180648 0.84531918 0.87768543 0.87141289 0.86200407 0.90039209\n",
      " 0.89838484 0.89549952 0.89248863 0.89280227 0.9198997  0.91519529\n",
      " 0.93783918 0.94467622 0.9436726  0.95320689 0.95069781 0.93420109\n",
      " 0.90942457 0.90729183 0.90917362 0.92485497 0.88464795 0.87059752\n",
      " 0.85510433 0.84450372 0.84914544 0.83565942 0.82763057 0.83660035\n",
      " 0.82719154 0.84544456 0.88345616 0.8233025  0.83252314 0.81408185\n",
      " 0.80360672 0.82731692 0.84249646 0.82254982 0.81640276 0.80191311\n",
      " 0.80404584 0.8102556  0.79821233 0.75204642 0.72519994 0.75185825\n",
      " 0.77475308 0.77663477 0.7705504  0.73705504 0.73912499 0.73009252\n",
      " 0.72607809 0.75524547 0.72632905 0.75160739 0.76001257 0.76070256\n",
      " 0.75775445 0.78209194 0.79576604 0.81389368 0.79513884 0.76659876\n",
      " 0.83522038 0.82016622 0.80329307 0.76804142 0.72946532 0.72632905\n",
      " 0.72971618 0.73335427 0.70431237 0.77958287 0.79733418 0.78842718\n",
      " 0.79946682 0.79162614 0.8037322  0.80730749 0.71910673 0.71025604\n",
      " 0.6876511  0.65658444 0.61997426 0.57903522 0.5341078  0.48519346\n",
      " 0.43226188 0.37546319 0.31532577 0.25295523]\n",
      "12 day output [[0.19016846]]\n",
      "13 day input [0.81828444 0.8327741  0.82487063 0.81771994 0.80925206 0.84180648\n",
      " 0.84531918 0.87768543 0.87141289 0.86200407 0.90039209 0.89838484\n",
      " 0.89549952 0.89248863 0.89280227 0.9198997  0.91519529 0.93783918\n",
      " 0.94467622 0.9436726  0.95320689 0.95069781 0.93420109 0.90942457\n",
      " 0.90729183 0.90917362 0.92485497 0.88464795 0.87059752 0.85510433\n",
      " 0.84450372 0.84914544 0.83565942 0.82763057 0.83660035 0.82719154\n",
      " 0.84544456 0.88345616 0.8233025  0.83252314 0.81408185 0.80360672\n",
      " 0.82731692 0.84249646 0.82254982 0.81640276 0.80191311 0.80404584\n",
      " 0.8102556  0.79821233 0.75204642 0.72519994 0.75185825 0.77475308\n",
      " 0.77663477 0.7705504  0.73705504 0.73912499 0.73009252 0.72607809\n",
      " 0.75524547 0.72632905 0.75160739 0.76001257 0.76070256 0.75775445\n",
      " 0.78209194 0.79576604 0.81389368 0.79513884 0.76659876 0.83522038\n",
      " 0.82016622 0.80329307 0.76804142 0.72946532 0.72632905 0.72971618\n",
      " 0.73335427 0.70431237 0.77958287 0.79733418 0.78842718 0.79946682\n",
      " 0.79162614 0.8037322  0.80730749 0.71910673 0.71025604 0.6876511\n",
      " 0.65658444 0.61997426 0.57903522 0.5341078  0.48519346 0.43226188\n",
      " 0.37546319 0.31532577 0.25295523 0.19016846]\n",
      "13 day output [[0.12944216]]\n",
      "14 day input [0.8327741  0.82487063 0.81771994 0.80925206 0.84180648 0.84531918\n",
      " 0.87768543 0.87141289 0.86200407 0.90039209 0.89838484 0.89549952\n",
      " 0.89248863 0.89280227 0.9198997  0.91519529 0.93783918 0.94467622\n",
      " 0.9436726  0.95320689 0.95069781 0.93420109 0.90942457 0.90729183\n",
      " 0.90917362 0.92485497 0.88464795 0.87059752 0.85510433 0.84450372\n",
      " 0.84914544 0.83565942 0.82763057 0.83660035 0.82719154 0.84544456\n",
      " 0.88345616 0.8233025  0.83252314 0.81408185 0.80360672 0.82731692\n",
      " 0.84249646 0.82254982 0.81640276 0.80191311 0.80404584 0.8102556\n",
      " 0.79821233 0.75204642 0.72519994 0.75185825 0.77475308 0.77663477\n",
      " 0.7705504  0.73705504 0.73912499 0.73009252 0.72607809 0.75524547\n",
      " 0.72632905 0.75160739 0.76001257 0.76070256 0.75775445 0.78209194\n",
      " 0.79576604 0.81389368 0.79513884 0.76659876 0.83522038 0.82016622\n",
      " 0.80329307 0.76804142 0.72946532 0.72632905 0.72971618 0.73335427\n",
      " 0.70431237 0.77958287 0.79733418 0.78842718 0.79946682 0.79162614\n",
      " 0.8037322  0.80730749 0.71910673 0.71025604 0.6876511  0.65658444\n",
      " 0.61997426 0.57903522 0.5341078  0.48519346 0.43226188 0.37546319\n",
      " 0.31532577 0.25295523 0.19016846 0.12944216]\n",
      "14 day output [[0.07356732]]\n",
      "15 day input [0.82487063 0.81771994 0.80925206 0.84180648 0.84531918 0.87768543\n",
      " 0.87141289 0.86200407 0.90039209 0.89838484 0.89549952 0.89248863\n",
      " 0.89280227 0.9198997  0.91519529 0.93783918 0.94467622 0.9436726\n",
      " 0.95320689 0.95069781 0.93420109 0.90942457 0.90729183 0.90917362\n",
      " 0.92485497 0.88464795 0.87059752 0.85510433 0.84450372 0.84914544\n",
      " 0.83565942 0.82763057 0.83660035 0.82719154 0.84544456 0.88345616\n",
      " 0.8233025  0.83252314 0.81408185 0.80360672 0.82731692 0.84249646\n",
      " 0.82254982 0.81640276 0.80191311 0.80404584 0.8102556  0.79821233\n",
      " 0.75204642 0.72519994 0.75185825 0.77475308 0.77663477 0.7705504\n",
      " 0.73705504 0.73912499 0.73009252 0.72607809 0.75524547 0.72632905\n",
      " 0.75160739 0.76001257 0.76070256 0.75775445 0.78209194 0.79576604\n",
      " 0.81389368 0.79513884 0.76659876 0.83522038 0.82016622 0.80329307\n",
      " 0.76804142 0.72946532 0.72632905 0.72971618 0.73335427 0.70431237\n",
      " 0.77958287 0.79733418 0.78842718 0.79946682 0.79162614 0.8037322\n",
      " 0.80730749 0.71910673 0.71025604 0.6876511  0.65658444 0.61997426\n",
      " 0.57903522 0.5341078  0.48519346 0.43226188 0.37546319 0.31532577\n",
      " 0.25295523 0.19016846 0.12944216 0.07356732]\n",
      "15 day output [[0.02504709]]\n",
      "16 day input [0.81771994 0.80925206 0.84180648 0.84531918 0.87768543 0.87141289\n",
      " 0.86200407 0.90039209 0.89838484 0.89549952 0.89248863 0.89280227\n",
      " 0.9198997  0.91519529 0.93783918 0.94467622 0.9436726  0.95320689\n",
      " 0.95069781 0.93420109 0.90942457 0.90729183 0.90917362 0.92485497\n",
      " 0.88464795 0.87059752 0.85510433 0.84450372 0.84914544 0.83565942\n",
      " 0.82763057 0.83660035 0.82719154 0.84544456 0.88345616 0.8233025\n",
      " 0.83252314 0.81408185 0.80360672 0.82731692 0.84249646 0.82254982\n",
      " 0.81640276 0.80191311 0.80404584 0.8102556  0.79821233 0.75204642\n",
      " 0.72519994 0.75185825 0.77475308 0.77663477 0.7705504  0.73705504\n",
      " 0.73912499 0.73009252 0.72607809 0.75524547 0.72632905 0.75160739\n",
      " 0.76001257 0.76070256 0.75775445 0.78209194 0.79576604 0.81389368\n",
      " 0.79513884 0.76659876 0.83522038 0.82016622 0.80329307 0.76804142\n",
      " 0.72946532 0.72632905 0.72971618 0.73335427 0.70431237 0.77958287\n",
      " 0.79733418 0.78842718 0.79946682 0.79162614 0.8037322  0.80730749\n",
      " 0.71910673 0.71025604 0.6876511  0.65658444 0.61997426 0.57903522\n",
      " 0.5341078  0.48519346 0.43226188 0.37546319 0.31532577 0.25295523\n",
      " 0.19016846 0.12944216 0.07356732 0.02504709]\n",
      "16 day output [[-0.01451905]]\n",
      "17 day input [ 0.80925206  0.84180648  0.84531918  0.87768543  0.87141289  0.86200407\n",
      "  0.90039209  0.89838484  0.89549952  0.89248863  0.89280227  0.9198997\n",
      "  0.91519529  0.93783918  0.94467622  0.9436726   0.95320689  0.95069781\n",
      "  0.93420109  0.90942457  0.90729183  0.90917362  0.92485497  0.88464795\n",
      "  0.87059752  0.85510433  0.84450372  0.84914544  0.83565942  0.82763057\n",
      "  0.83660035  0.82719154  0.84544456  0.88345616  0.8233025   0.83252314\n",
      "  0.81408185  0.80360672  0.82731692  0.84249646  0.82254982  0.81640276\n",
      "  0.80191311  0.80404584  0.8102556   0.79821233  0.75204642  0.72519994\n",
      "  0.75185825  0.77475308  0.77663477  0.7705504   0.73705504  0.73912499\n",
      "  0.73009252  0.72607809  0.75524547  0.72632905  0.75160739  0.76001257\n",
      "  0.76070256  0.75775445  0.78209194  0.79576604  0.81389368  0.79513884\n",
      "  0.76659876  0.83522038  0.82016622  0.80329307  0.76804142  0.72946532\n",
      "  0.72632905  0.72971618  0.73335427  0.70431237  0.77958287  0.79733418\n",
      "  0.78842718  0.79946682  0.79162614  0.8037322   0.80730749  0.71910673\n",
      "  0.71025604  0.6876511   0.65658444  0.61997426  0.57903522  0.5341078\n",
      "  0.48519346  0.43226188  0.37546319  0.31532577  0.25295523  0.19016846\n",
      "  0.12944216  0.07356732  0.02504709 -0.01451905]\n",
      "17 day output [[-0.04474491]]\n",
      "18 day input [ 0.84180648  0.84531918  0.87768543  0.87141289  0.86200407  0.90039209\n",
      "  0.89838484  0.89549952  0.89248863  0.89280227  0.9198997   0.91519529\n",
      "  0.93783918  0.94467622  0.9436726   0.95320689  0.95069781  0.93420109\n",
      "  0.90942457  0.90729183  0.90917362  0.92485497  0.88464795  0.87059752\n",
      "  0.85510433  0.84450372  0.84914544  0.83565942  0.82763057  0.83660035\n",
      "  0.82719154  0.84544456  0.88345616  0.8233025   0.83252314  0.81408185\n",
      "  0.80360672  0.82731692  0.84249646  0.82254982  0.81640276  0.80191311\n",
      "  0.80404584  0.8102556   0.79821233  0.75204642  0.72519994  0.75185825\n",
      "  0.77475308  0.77663477  0.7705504   0.73705504  0.73912499  0.73009252\n",
      "  0.72607809  0.75524547  0.72632905  0.75160739  0.76001257  0.76070256\n",
      "  0.75775445  0.78209194  0.79576604  0.81389368  0.79513884  0.76659876\n",
      "  0.83522038  0.82016622  0.80329307  0.76804142  0.72946532  0.72632905\n",
      "  0.72971618  0.73335427  0.70431237  0.77958287  0.79733418  0.78842718\n",
      "  0.79946682  0.79162614  0.8037322   0.80730749  0.71910673  0.71025604\n",
      "  0.6876511   0.65658444  0.61997426  0.57903522  0.5341078   0.48519346\n",
      "  0.43226188  0.37546319  0.31532577  0.25295523  0.19016846  0.12944216\n",
      "  0.07356732  0.02504709 -0.01451905 -0.04474491]\n",
      "18 day output [[-0.06632811]]\n",
      "19 day input [ 0.84531918  0.87768543  0.87141289  0.86200407  0.90039209  0.89838484\n",
      "  0.89549952  0.89248863  0.89280227  0.9198997   0.91519529  0.93783918\n",
      "  0.94467622  0.9436726   0.95320689  0.95069781  0.93420109  0.90942457\n",
      "  0.90729183  0.90917362  0.92485497  0.88464795  0.87059752  0.85510433\n",
      "  0.84450372  0.84914544  0.83565942  0.82763057  0.83660035  0.82719154\n",
      "  0.84544456  0.88345616  0.8233025   0.83252314  0.81408185  0.80360672\n",
      "  0.82731692  0.84249646  0.82254982  0.81640276  0.80191311  0.80404584\n",
      "  0.8102556   0.79821233  0.75204642  0.72519994  0.75185825  0.77475308\n",
      "  0.77663477  0.7705504   0.73705504  0.73912499  0.73009252  0.72607809\n",
      "  0.75524547  0.72632905  0.75160739  0.76001257  0.76070256  0.75775445\n",
      "  0.78209194  0.79576604  0.81389368  0.79513884  0.76659876  0.83522038\n",
      "  0.82016622  0.80329307  0.76804142  0.72946532  0.72632905  0.72971618\n",
      "  0.73335427  0.70431237  0.77958287  0.79733418  0.78842718  0.79946682\n",
      "  0.79162614  0.8037322   0.80730749  0.71910673  0.71025604  0.6876511\n",
      "  0.65658444  0.61997426  0.57903522  0.5341078   0.48519346  0.43226188\n",
      "  0.37546319  0.31532577  0.25295523  0.19016846  0.12944216  0.07356732\n",
      "  0.02504709 -0.01451905 -0.04474491 -0.06632811]\n",
      "19 day output [[-0.08062701]]\n",
      "20 day input [ 0.87768543  0.87141289  0.86200407  0.90039209  0.89838484  0.89549952\n",
      "  0.89248863  0.89280227  0.9198997   0.91519529  0.93783918  0.94467622\n",
      "  0.9436726   0.95320689  0.95069781  0.93420109  0.90942457  0.90729183\n",
      "  0.90917362  0.92485497  0.88464795  0.87059752  0.85510433  0.84450372\n",
      "  0.84914544  0.83565942  0.82763057  0.83660035  0.82719154  0.84544456\n",
      "  0.88345616  0.8233025   0.83252314  0.81408185  0.80360672  0.82731692\n",
      "  0.84249646  0.82254982  0.81640276  0.80191311  0.80404584  0.8102556\n",
      "  0.79821233  0.75204642  0.72519994  0.75185825  0.77475308  0.77663477\n",
      "  0.7705504   0.73705504  0.73912499  0.73009252  0.72607809  0.75524547\n",
      "  0.72632905  0.75160739  0.76001257  0.76070256  0.75775445  0.78209194\n",
      "  0.79576604  0.81389368  0.79513884  0.76659876  0.83522038  0.82016622\n",
      "  0.80329307  0.76804142  0.72946532  0.72632905  0.72971618  0.73335427\n",
      "  0.70431237  0.77958287  0.79733418  0.78842718  0.79946682  0.79162614\n",
      "  0.8037322   0.80730749  0.71910673  0.71025604  0.6876511   0.65658444\n",
      "  0.61997426  0.57903522  0.5341078   0.48519346  0.43226188  0.37546319\n",
      "  0.31532577  0.25295523  0.19016846  0.12944216  0.07356732  0.02504709\n",
      " -0.01451905 -0.04474491 -0.06632811 -0.08062701]\n",
      "20 day output [[-0.08920428]]\n",
      "21 day input [ 0.87141289  0.86200407  0.90039209  0.89838484  0.89549952  0.89248863\n",
      "  0.89280227  0.9198997   0.91519529  0.93783918  0.94467622  0.9436726\n",
      "  0.95320689  0.95069781  0.93420109  0.90942457  0.90729183  0.90917362\n",
      "  0.92485497  0.88464795  0.87059752  0.85510433  0.84450372  0.84914544\n",
      "  0.83565942  0.82763057  0.83660035  0.82719154  0.84544456  0.88345616\n",
      "  0.8233025   0.83252314  0.81408185  0.80360672  0.82731692  0.84249646\n",
      "  0.82254982  0.81640276  0.80191311  0.80404584  0.8102556   0.79821233\n",
      "  0.75204642  0.72519994  0.75185825  0.77475308  0.77663477  0.7705504\n",
      "  0.73705504  0.73912499  0.73009252  0.72607809  0.75524547  0.72632905\n",
      "  0.75160739  0.76001257  0.76070256  0.75775445  0.78209194  0.79576604\n",
      "  0.81389368  0.79513884  0.76659876  0.83522038  0.82016622  0.80329307\n",
      "  0.76804142  0.72946532  0.72632905  0.72971618  0.73335427  0.70431237\n",
      "  0.77958287  0.79733418  0.78842718  0.79946682  0.79162614  0.8037322\n",
      "  0.80730749  0.71910673  0.71025604  0.6876511   0.65658444  0.61997426\n",
      "  0.57903522  0.5341078   0.48519346  0.43226188  0.37546319  0.31532577\n",
      "  0.25295523  0.19016846  0.12944216  0.07356732  0.02504709 -0.01451905\n",
      " -0.04474491 -0.06632811 -0.08062701 -0.08920428]\n",
      "21 day output [[-0.0935118]]\n",
      "22 day input [ 0.86200407  0.90039209  0.89838484  0.89549952  0.89248863  0.89280227\n",
      "  0.9198997   0.91519529  0.93783918  0.94467622  0.9436726   0.95320689\n",
      "  0.95069781  0.93420109  0.90942457  0.90729183  0.90917362  0.92485497\n",
      "  0.88464795  0.87059752  0.85510433  0.84450372  0.84914544  0.83565942\n",
      "  0.82763057  0.83660035  0.82719154  0.84544456  0.88345616  0.8233025\n",
      "  0.83252314  0.81408185  0.80360672  0.82731692  0.84249646  0.82254982\n",
      "  0.81640276  0.80191311  0.80404584  0.8102556   0.79821233  0.75204642\n",
      "  0.72519994  0.75185825  0.77475308  0.77663477  0.7705504   0.73705504\n",
      "  0.73912499  0.73009252  0.72607809  0.75524547  0.72632905  0.75160739\n",
      "  0.76001257  0.76070256  0.75775445  0.78209194  0.79576604  0.81389368\n",
      "  0.79513884  0.76659876  0.83522038  0.82016622  0.80329307  0.76804142\n",
      "  0.72946532  0.72632905  0.72971618  0.73335427  0.70431237  0.77958287\n",
      "  0.79733418  0.78842718  0.79946682  0.79162614  0.8037322   0.80730749\n",
      "  0.71910673  0.71025604  0.6876511   0.65658444  0.61997426  0.57903522\n",
      "  0.5341078   0.48519346  0.43226188  0.37546319  0.31532577  0.25295523\n",
      "  0.19016846  0.12944216  0.07356732  0.02504709 -0.01451905 -0.04474491\n",
      " -0.06632811 -0.08062701 -0.08920428 -0.0935118 ]\n",
      "22 day output [[-0.09474737]]\n",
      "23 day input [ 0.90039209  0.89838484  0.89549952  0.89248863  0.89280227  0.9198997\n",
      "  0.91519529  0.93783918  0.94467622  0.9436726   0.95320689  0.95069781\n",
      "  0.93420109  0.90942457  0.90729183  0.90917362  0.92485497  0.88464795\n",
      "  0.87059752  0.85510433  0.84450372  0.84914544  0.83565942  0.82763057\n",
      "  0.83660035  0.82719154  0.84544456  0.88345616  0.8233025   0.83252314\n",
      "  0.81408185  0.80360672  0.82731692  0.84249646  0.82254982  0.81640276\n",
      "  0.80191311  0.80404584  0.8102556   0.79821233  0.75204642  0.72519994\n",
      "  0.75185825  0.77475308  0.77663477  0.7705504   0.73705504  0.73912499\n",
      "  0.73009252  0.72607809  0.75524547  0.72632905  0.75160739  0.76001257\n",
      "  0.76070256  0.75775445  0.78209194  0.79576604  0.81389368  0.79513884\n",
      "  0.76659876  0.83522038  0.82016622  0.80329307  0.76804142  0.72946532\n",
      "  0.72632905  0.72971618  0.73335427  0.70431237  0.77958287  0.79733418\n",
      "  0.78842718  0.79946682  0.79162614  0.8037322   0.80730749  0.71910673\n",
      "  0.71025604  0.6876511   0.65658444  0.61997426  0.57903522  0.5341078\n",
      "  0.48519346  0.43226188  0.37546319  0.31532577  0.25295523  0.19016846\n",
      "  0.12944216  0.07356732  0.02504709 -0.01451905 -0.04474491 -0.06632811\n",
      " -0.08062701 -0.08920428 -0.0935118  -0.09474737]\n",
      "23 day output [[-0.09383396]]\n",
      "24 day input [ 0.89838484  0.89549952  0.89248863  0.89280227  0.9198997   0.91519529\n",
      "  0.93783918  0.94467622  0.9436726   0.95320689  0.95069781  0.93420109\n",
      "  0.90942457  0.90729183  0.90917362  0.92485497  0.88464795  0.87059752\n",
      "  0.85510433  0.84450372  0.84914544  0.83565942  0.82763057  0.83660035\n",
      "  0.82719154  0.84544456  0.88345616  0.8233025   0.83252314  0.81408185\n",
      "  0.80360672  0.82731692  0.84249646  0.82254982  0.81640276  0.80191311\n",
      "  0.80404584  0.8102556   0.79821233  0.75204642  0.72519994  0.75185825\n",
      "  0.77475308  0.77663477  0.7705504   0.73705504  0.73912499  0.73009252\n",
      "  0.72607809  0.75524547  0.72632905  0.75160739  0.76001257  0.76070256\n",
      "  0.75775445  0.78209194  0.79576604  0.81389368  0.79513884  0.76659876\n",
      "  0.83522038  0.82016622  0.80329307  0.76804142  0.72946532  0.72632905\n",
      "  0.72971618  0.73335427  0.70431237  0.77958287  0.79733418  0.78842718\n",
      "  0.79946682  0.79162614  0.8037322   0.80730749  0.71910673  0.71025604\n",
      "  0.6876511   0.65658444  0.61997426  0.57903522  0.5341078   0.48519346\n",
      "  0.43226188  0.37546319  0.31532577  0.25295523  0.19016846  0.12944216\n",
      "  0.07356732  0.02504709 -0.01451905 -0.04474491 -0.06632811 -0.08062701\n",
      " -0.08920428 -0.0935118  -0.09474737 -0.09383396]\n",
      "24 day output [[-0.09145814]]\n",
      "25 day input [ 0.89549952  0.89248863  0.89280227  0.9198997   0.91519529  0.93783918\n",
      "  0.94467622  0.9436726   0.95320689  0.95069781  0.93420109  0.90942457\n",
      "  0.90729183  0.90917362  0.92485497  0.88464795  0.87059752  0.85510433\n",
      "  0.84450372  0.84914544  0.83565942  0.82763057  0.83660035  0.82719154\n",
      "  0.84544456  0.88345616  0.8233025   0.83252314  0.81408185  0.80360672\n",
      "  0.82731692  0.84249646  0.82254982  0.81640276  0.80191311  0.80404584\n",
      "  0.8102556   0.79821233  0.75204642  0.72519994  0.75185825  0.77475308\n",
      "  0.77663477  0.7705504   0.73705504  0.73912499  0.73009252  0.72607809\n",
      "  0.75524547  0.72632905  0.75160739  0.76001257  0.76070256  0.75775445\n",
      "  0.78209194  0.79576604  0.81389368  0.79513884  0.76659876  0.83522038\n",
      "  0.82016622  0.80329307  0.76804142  0.72946532  0.72632905  0.72971618\n",
      "  0.73335427  0.70431237  0.77958287  0.79733418  0.78842718  0.79946682\n",
      "  0.79162614  0.8037322   0.80730749  0.71910673  0.71025604  0.6876511\n",
      "  0.65658444  0.61997426  0.57903522  0.5341078   0.48519346  0.43226188\n",
      "  0.37546319  0.31532577  0.25295523  0.19016846  0.12944216  0.07356732\n",
      "  0.02504709 -0.01451905 -0.04474491 -0.06632811 -0.08062701 -0.08920428\n",
      " -0.0935118  -0.09474737 -0.09383396 -0.09145814]\n",
      "25 day output [[-0.08812412]]\n",
      "26 day input [ 0.89248863  0.89280227  0.9198997   0.91519529  0.93783918  0.94467622\n",
      "  0.9436726   0.95320689  0.95069781  0.93420109  0.90942457  0.90729183\n",
      "  0.90917362  0.92485497  0.88464795  0.87059752  0.85510433  0.84450372\n",
      "  0.84914544  0.83565942  0.82763057  0.83660035  0.82719154  0.84544456\n",
      "  0.88345616  0.8233025   0.83252314  0.81408185  0.80360672  0.82731692\n",
      "  0.84249646  0.82254982  0.81640276  0.80191311  0.80404584  0.8102556\n",
      "  0.79821233  0.75204642  0.72519994  0.75185825  0.77475308  0.77663477\n",
      "  0.7705504   0.73705504  0.73912499  0.73009252  0.72607809  0.75524547\n",
      "  0.72632905  0.75160739  0.76001257  0.76070256  0.75775445  0.78209194\n",
      "  0.79576604  0.81389368  0.79513884  0.76659876  0.83522038  0.82016622\n",
      "  0.80329307  0.76804142  0.72946532  0.72632905  0.72971618  0.73335427\n",
      "  0.70431237  0.77958287  0.79733418  0.78842718  0.79946682  0.79162614\n",
      "  0.8037322   0.80730749  0.71910673  0.71025604  0.6876511   0.65658444\n",
      "  0.61997426  0.57903522  0.5341078   0.48519346  0.43226188  0.37546319\n",
      "  0.31532577  0.25295523  0.19016846  0.12944216  0.07356732  0.02504709\n",
      " -0.01451905 -0.04474491 -0.06632811 -0.08062701 -0.08920428 -0.0935118\n",
      " -0.09474737 -0.09383396 -0.09145814 -0.08812412]\n",
      "26 day output [[-0.08420254]]\n",
      "27 day input [ 0.89280227  0.9198997   0.91519529  0.93783918  0.94467622  0.9436726\n",
      "  0.95320689  0.95069781  0.93420109  0.90942457  0.90729183  0.90917362\n",
      "  0.92485497  0.88464795  0.87059752  0.85510433  0.84450372  0.84914544\n",
      "  0.83565942  0.82763057  0.83660035  0.82719154  0.84544456  0.88345616\n",
      "  0.8233025   0.83252314  0.81408185  0.80360672  0.82731692  0.84249646\n",
      "  0.82254982  0.81640276  0.80191311  0.80404584  0.8102556   0.79821233\n",
      "  0.75204642  0.72519994  0.75185825  0.77475308  0.77663477  0.7705504\n",
      "  0.73705504  0.73912499  0.73009252  0.72607809  0.75524547  0.72632905\n",
      "  0.75160739  0.76001257  0.76070256  0.75775445  0.78209194  0.79576604\n",
      "  0.81389368  0.79513884  0.76659876  0.83522038  0.82016622  0.80329307\n",
      "  0.76804142  0.72946532  0.72632905  0.72971618  0.73335427  0.70431237\n",
      "  0.77958287  0.79733418  0.78842718  0.79946682  0.79162614  0.8037322\n",
      "  0.80730749  0.71910673  0.71025604  0.6876511   0.65658444  0.61997426\n",
      "  0.57903522  0.5341078   0.48519346  0.43226188  0.37546319  0.31532577\n",
      "  0.25295523  0.19016846  0.12944216  0.07356732  0.02504709 -0.01451905\n",
      " -0.04474491 -0.06632811 -0.08062701 -0.08920428 -0.0935118  -0.09474737\n",
      " -0.09383396 -0.09145814 -0.08812412 -0.08420254]\n",
      "27 day output [[-0.07996695]]\n",
      "28 day input [ 0.9198997   0.91519529  0.93783918  0.94467622  0.9436726   0.95320689\n",
      "  0.95069781  0.93420109  0.90942457  0.90729183  0.90917362  0.92485497\n",
      "  0.88464795  0.87059752  0.85510433  0.84450372  0.84914544  0.83565942\n",
      "  0.82763057  0.83660035  0.82719154  0.84544456  0.88345616  0.8233025\n",
      "  0.83252314  0.81408185  0.80360672  0.82731692  0.84249646  0.82254982\n",
      "  0.81640276  0.80191311  0.80404584  0.8102556   0.79821233  0.75204642\n",
      "  0.72519994  0.75185825  0.77475308  0.77663477  0.7705504   0.73705504\n",
      "  0.73912499  0.73009252  0.72607809  0.75524547  0.72632905  0.75160739\n",
      "  0.76001257  0.76070256  0.75775445  0.78209194  0.79576604  0.81389368\n",
      "  0.79513884  0.76659876  0.83522038  0.82016622  0.80329307  0.76804142\n",
      "  0.72946532  0.72632905  0.72971618  0.73335427  0.70431237  0.77958287\n",
      "  0.79733418  0.78842718  0.79946682  0.79162614  0.8037322   0.80730749\n",
      "  0.71910673  0.71025604  0.6876511   0.65658444  0.61997426  0.57903522\n",
      "  0.5341078   0.48519346  0.43226188  0.37546319  0.31532577  0.25295523\n",
      "  0.19016846  0.12944216  0.07356732  0.02504709 -0.01451905 -0.04474491\n",
      " -0.06632811 -0.08062701 -0.08920428 -0.0935118  -0.09474737 -0.09383396\n",
      " -0.09145814 -0.08812412 -0.08420254 -0.07996695]\n",
      "28 day output [[-0.0756193]]\n",
      "29 day input [ 0.91519529  0.93783918  0.94467622  0.9436726   0.95320689  0.95069781\n",
      "  0.93420109  0.90942457  0.90729183  0.90917362  0.92485497  0.88464795\n",
      "  0.87059752  0.85510433  0.84450372  0.84914544  0.83565942  0.82763057\n",
      "  0.83660035  0.82719154  0.84544456  0.88345616  0.8233025   0.83252314\n",
      "  0.81408185  0.80360672  0.82731692  0.84249646  0.82254982  0.81640276\n",
      "  0.80191311  0.80404584  0.8102556   0.79821233  0.75204642  0.72519994\n",
      "  0.75185825  0.77475308  0.77663477  0.7705504   0.73705504  0.73912499\n",
      "  0.73009252  0.72607809  0.75524547  0.72632905  0.75160739  0.76001257\n",
      "  0.76070256  0.75775445  0.78209194  0.79576604  0.81389368  0.79513884\n",
      "  0.76659876  0.83522038  0.82016622  0.80329307  0.76804142  0.72946532\n",
      "  0.72632905  0.72971618  0.73335427  0.70431237  0.77958287  0.79733418\n",
      "  0.78842718  0.79946682  0.79162614  0.8037322   0.80730749  0.71910673\n",
      "  0.71025604  0.6876511   0.65658444  0.61997426  0.57903522  0.5341078\n",
      "  0.48519346  0.43226188  0.37546319  0.31532577  0.25295523  0.19016846\n",
      "  0.12944216  0.07356732  0.02504709 -0.01451905 -0.04474491 -0.06632811\n",
      " -0.08062701 -0.08920428 -0.0935118  -0.09474737 -0.09383396 -0.09145814\n",
      " -0.08812412 -0.08420254 -0.07996695 -0.0756193 ]\n",
      "29 day output [[-0.07130726]]\n",
      "[[0.7191067337989807], [0.710256040096283], [0.6876510977745056], [0.6565844416618347], [0.6199742555618286], [0.579035222530365], [0.5341078042984009], [0.4851934611797333], [0.4322618842124939], [0.37546318769454956], [0.3153257668018341], [0.25295522809028625], [0.19016845524311066], [0.12944215536117554], [0.07356731593608856], [0.025047093629837036], [-0.014519051648676395], [-0.04474490508437157], [-0.06632810831069946], [-0.08062700927257538], [-0.08920428156852722], [-0.09351179748773575], [-0.09474737197160721], [-0.09383396059274673], [-0.09145814180374146], [-0.088124118745327], [-0.08420254290103912], [-0.0799669548869133], [-0.07561929523944855], [-0.07130726426839828]]\n"
     ]
    }
   ],
   "source": [
    "# demonstrate prediction for next 10 days\n",
    "from numpy import array\n",
    "\n",
    "lst_output=[]\n",
    "n_steps=100\n",
    "i=0\n",
    "while(i<30):\n",
    "    \n",
    "    if(len(temp_input)>100):\n",
    "        #print(temp_input)\n",
    "        x_input=np.array(temp_input[1:])\n",
    "        print(\"{} day input {}\".format(i,x_input))\n",
    "        x_input=x_input.reshape(1,-1)\n",
    "        x_input = x_input.reshape((1, n_steps, 1))\n",
    "        #print(x_input)\n",
    "        yhat = model.predict(x_input, verbose=0)\n",
    "        print(\"{} day output {}\".format(i,yhat))\n",
    "        temp_input.extend(yhat[0].tolist())\n",
    "        temp_input=temp_input[1:]\n",
    "        #print(temp_input)\n",
    "        lst_output.extend(yhat.tolist())\n",
    "        i=i+1\n",
    "    else:\n",
    "        x_input = x_input.reshape((1, n_steps,1))\n",
    "        yhat = model.predict(x_input, verbose=0)\n",
    "#         print(\"yhat 0 is \",yhat[0])\n",
    "#         print(type(yhat[0].tolist()))\n",
    "        temp_input.extend(yhat[0].tolist())\n",
    "#         print(yhat[0].tolist())\n",
    "        lst_output.extend(yhat.tolist())\n",
    "        i=i+1\n",
    "    \n",
    "\n",
    "print(lst_output)"
   ]
  },
  {
   "cell_type": "code",
   "execution_count": 75,
   "metadata": {},
   "outputs": [],
   "source": [
    "day_new=np.arange(1,101)\n",
    "day_pred=np.arange(101,131)\n",
    "# day_new,day_pred"
   ]
  },
  {
   "cell_type": "code",
   "execution_count": 76,
   "metadata": {},
   "outputs": [
    {
     "data": {
      "text/plain": [
       "[<matplotlib.lines.Line2D at 0x1efb21e3e20>]"
      ]
     },
     "execution_count": 76,
     "metadata": {},
     "output_type": "execute_result"
    },
    {
     "data": {
      "image/png": "[encoded data removed]",
      "text/plain": [
       "<Figure size 640x480 with 1 Axes>"
      ]
     },
     "metadata": {},
     "output_type": "display_data"
    }
   ],
   "source": [
    "plt.plot(day_new,scaler.inverse_transform(df1[1634:]))\n",
    "plt.plot(day_pred,scaler.inverse_transform(lst_output))"
   ]
  },
  {
   "cell_type": "code",
   "execution_count": 77,
   "metadata": {},
   "outputs": [
    {
     "data": {
      "text/plain": [
       "[<matplotlib.lines.Line2D at 0x1efb21cf5b0>]"
      ]
     },
     "execution_count": 77,
     "metadata": {},
     "output_type": "execute_result"
    },
    {
     "data": {
      "image/png": "[encoded data removed]",
      "text/plain": [
       "<Figure size 640x480 with 1 Axes>"
      ]
     },
     "metadata": {},
     "output_type": "display_data"
    }
   ],
   "source": [
    "df3=df1.tolist()\n",
    "df3.extend(lst_output)\n",
    "# print(len(df3[1200:]))\n",
    "plt.plot(df3[1200:])"
   ]
  },
  {
   "cell_type": "code",
   "execution_count": 78,
   "metadata": {},
   "outputs": [],
   "source": [
    "df3=scaler.inverse_transform(df3).tolist()"
   ]
  },
  {
   "cell_type": "code",
   "execution_count": 79,
   "metadata": {},
   "outputs": [
    {
     "data": {
      "text/plain": [
       "[<matplotlib.lines.Line2D at 0x1efb2317ee0>]"
      ]
     },
     "execution_count": 79,
     "metadata": {},
     "output_type": "execute_result"
    },
    {
     "data": {
      "image/png": "[encoded data removed]",
      "text/plain": [
       "<Figure size 640x480 with 1 Axes>"
      ]
     },
     "metadata": {},
     "output_type": "display_data"
    }
   ],
   "source": [
    "plt.plot(df3)"
   ]
  },
  {
   "cell_type": "code",
   "execution_count": null,
   "metadata": {},
   "outputs": [],
   "source": []
  }
 ],
 "metadata": {
  "kernelspec": {
   "display_name": "Python 3 (ipykernel)",
   "language": "python",
   "name": "python3"
  },
  "language_info": {
   "codemirror_mode": {
    "name": "ipython",
    "version": 3
   },
   "file_extension": ".py",
   "mimetype": "text/x-python",
   "name": "python",
   "nbconvert_exporter": "python",
   "pygments_lexer": "ipython3",
   "version": "3.9.15"
  }
 },
 "nbformat": 4,
 "nbformat_minor": 4
}
